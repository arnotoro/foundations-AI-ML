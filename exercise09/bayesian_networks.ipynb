{
  "cells": [
    {
      "cell_type": "markdown",
      "metadata": {
        "id": "WTt4jy2lV6Cp"
      },
      "source": [
        "# Learn to plot Bayesian Network"
      ]
    },
    {
      "cell_type": "markdown",
      "metadata": {},
      "source": [
        "NOTE: Not working locally, but works on e.g. Google Colab. Sorobn issue with local environment."
      ]
    },
    {
      "cell_type": "code",
      "execution_count": 50,
      "metadata": {
        "colab": {
          "base_uri": "https://localhost:8080/"
        },
        "id": "PymIDHFCYvvq",
        "outputId": "27eb363e-eead-445e-d28d-f43d0d4824ff"
      },
      "outputs": [
        {
          "name": "stdout",
          "output_type": "stream",
          "text": [
            "Requirement already satisfied: cython in c:\\users\\arnot\\documents\\foundations-ai-ml\\.env\\lib\\site-packages (3.0.12)\n",
            "Note: you may need to restart the kernel to use updated packages.\n"
          ]
        },
        {
          "name": "stderr",
          "output_type": "stream",
          "text": [
            "WARNING: There was an error checking the latest version of pip.\n"
          ]
        },
        {
          "name": "stdout",
          "output_type": "stream",
          "text": [
            "Collecting vose<0.0.2\n",
            "  Using cached vose-0.0.1-cp310-cp310-win_amd64.whl\n",
            "Requirement already satisfied: numpy in c:\\users\\arnot\\documents\\foundations-ai-ml\\.env\\lib\\site-packages (from vose<0.0.2) (1.26.4)\n",
            "Installing collected packages: vose\n",
            "  Attempting uninstall: vose\n",
            "    Found existing installation: vose 0.0.2\n",
            "    Uninstalling vose-0.0.2:\n",
            "      Successfully uninstalled vose-0.0.2\n",
            "Successfully installed vose-0.0.1\n",
            "Note: you may need to restart the kernel to use updated packages.\n"
          ]
        },
        {
          "name": "stderr",
          "output_type": "stream",
          "text": [
            "WARNING: There was an error checking the latest version of pip.\n"
          ]
        },
        {
          "name": "stdout",
          "output_type": "stream",
          "text": [
            "Collecting sorobn\n",
            "  Using cached sorobn-0.3.0-py3-none-any.whl (17 kB)\n",
            "Requirement already satisfied: vose<0.0.2,>=0.0.1 in c:\\users\\arnot\\documents\\foundations-ai-ml\\.env\\lib\\site-packages (from sorobn) (0.0.1)\n",
            "Collecting pandas<2.0.0,>=1.5.3\n",
            "  Using cached pandas-1.5.3-cp310-cp310-win_amd64.whl (10.4 MB)\n",
            "Requirement already satisfied: numpy<2.0.0,>=1.24.2 in c:\\users\\arnot\\documents\\foundations-ai-ml\\.env\\lib\\site-packages (from sorobn) (1.26.4)\n",
            "Requirement already satisfied: pytz>=2020.1 in c:\\users\\arnot\\documents\\foundations-ai-ml\\.env\\lib\\site-packages (from pandas<2.0.0,>=1.5.3->sorobn) (2025.2)\n",
            "Requirement already satisfied: python-dateutil>=2.8.1 in c:\\users\\arnot\\documents\\foundations-ai-ml\\.env\\lib\\site-packages (from pandas<2.0.0,>=1.5.3->sorobn) (2.9.0.post0)\n",
            "Requirement already satisfied: six>=1.5 in c:\\users\\arnot\\documents\\foundations-ai-ml\\.env\\lib\\site-packages (from python-dateutil>=2.8.1->pandas<2.0.0,>=1.5.3->sorobn) (1.17.0)\n",
            "Installing collected packages: pandas, sorobn\n",
            "  Attempting uninstall: pandas\n",
            "    Found existing installation: pandas 2.2.3\n",
            "    Uninstalling pandas-2.2.3:\n",
            "      Successfully uninstalled pandas-2.2.3\n",
            "Successfully installed pandas-1.5.3 sorobn-0.3.0\n",
            "Note: you may need to restart the kernel to use updated packages.\n"
          ]
        },
        {
          "name": "stderr",
          "output_type": "stream",
          "text": [
            "WARNING: There was an error checking the latest version of pip.\n"
          ]
        },
        {
          "name": "stdout",
          "output_type": "stream",
          "text": [
            "Requirement already satisfied: graphviz in c:\\users\\arnot\\documents\\foundations-ai-ml\\.env\\lib\\site-packages (0.20.3)\n",
            "Note: you may need to restart the kernel to use updated packages.\n"
          ]
        },
        {
          "name": "stderr",
          "output_type": "stream",
          "text": [
            "WARNING: There was an error checking the latest version of pip.\n"
          ]
        }
      ],
      "source": [
        "%pip install cython\n",
        "%pip install \"vose<0.0.2\" --no-build-isolation\n",
        "%pip install sorobn\n",
        "%pip install graphviz"
      ]
    },
    {
      "cell_type": "code",
      "execution_count": 45,
      "metadata": {
        "id": "Y3CkOET-OhIx"
      },
      "outputs": [],
      "source": [
        "import graphviz\n",
        "\n",
        "dot = graphviz.Digraph(comment='alarm')\n",
        "dot.node('A', 'Burglary')\n",
        "dot.node('B', 'Earthquake')\n",
        "dot.node('C', 'Alarm')\n",
        "dot.node('D', 'John calls')\n",
        "dot.node('E', 'Mary calls')\n",
        "\n",
        "dot.edges(['AC', 'BC', 'CD', 'CE'])"
      ]
    },
    {
      "cell_type": "code",
      "execution_count": 46,
      "metadata": {
        "colab": {
          "base_uri": "https://localhost:8080/"
        },
        "id": "M6Er0F5HOyUp",
        "outputId": "a131e92b-be28-455e-bec7-a63b5726e9b2"
      },
      "outputs": [
        {
          "name": "stdout",
          "output_type": "stream",
          "text": [
            "// alarm\n",
            "digraph {\n",
            "\tA [label=Burglary]\n",
            "\tB [label=Earthquake]\n",
            "\tC [label=Alarm]\n",
            "\tD [label=\"John calls\"]\n",
            "\tE [label=\"Mary calls\"]\n",
            "\tA -> C\n",
            "\tB -> C\n",
            "\tC -> D\n",
            "\tC -> E\n",
            "}\n",
            "\n"
          ]
        }
      ],
      "source": [
        "print(dot.source)"
      ]
    },
    {
      "cell_type": "code",
      "execution_count": 47,
      "metadata": {
        "colab": {
          "base_uri": "https://localhost:8080/",
          "height": 272
        },
        "id": "khVcYdyoOzZ4",
        "outputId": "c353ca72-4573-4fc3-a0c0-70a4ce84c556"
      },
      "outputs": [
        {
          "data": {
            "image/svg+xml": [
              "<?xml version=\"1.0\" encoding=\"UTF-8\" standalone=\"no\"?>\n",
              "<!DOCTYPE svg PUBLIC \"-//W3C//DTD SVG 1.1//EN\"\n",
              " \"http://www.w3.org/Graphics/SVG/1.1/DTD/svg11.dtd\">\n",
              "<!-- Generated by graphviz version 12.2.0 (20241103.1931)\n",
              " -->\n",
              "<!-- Pages: 1 -->\n",
              "<svg width=\"225pt\" height=\"188pt\"\n",
              " viewBox=\"0.00 0.00 224.66 188.00\" xmlns=\"http://www.w3.org/2000/svg\" xmlns:xlink=\"http://www.w3.org/1999/xlink\">\n",
              "<g id=\"graph0\" class=\"graph\" transform=\"scale(1 1) rotate(0) translate(4 184)\">\n",
              "<polygon fill=\"white\" stroke=\"none\" points=\"-4,4 -4,-184 220.66,-184 220.66,4 -4,4\"/>\n",
              "<!-- A -->\n",
              "<g id=\"node1\" class=\"node\">\n",
              "<title>A</title>\n",
              "<ellipse fill=\"none\" stroke=\"black\" cx=\"48.77\" cy=\"-162\" rx=\"43.67\" ry=\"18\"/>\n",
              "<text text-anchor=\"middle\" x=\"48.77\" y=\"-156.95\" font-family=\"Times New Roman,serif\" font-size=\"14.00\">Burglary</text>\n",
              "</g>\n",
              "<!-- C -->\n",
              "<g id=\"node3\" class=\"node\">\n",
              "<title>C</title>\n",
              "<ellipse fill=\"none\" stroke=\"black\" cx=\"105.77\" cy=\"-90\" rx=\"34.97\" ry=\"18\"/>\n",
              "<text text-anchor=\"middle\" x=\"105.77\" y=\"-84.95\" font-family=\"Times New Roman,serif\" font-size=\"14.00\">Alarm</text>\n",
              "</g>\n",
              "<!-- A&#45;&gt;C -->\n",
              "<g id=\"edge1\" class=\"edge\">\n",
              "<title>A&#45;&gt;C</title>\n",
              "<path fill=\"none\" stroke=\"black\" d=\"M62.28,-144.41C69.26,-135.83 77.93,-125.19 85.68,-115.67\"/>\n",
              "<polygon fill=\"black\" stroke=\"black\" points=\"88.19,-118.13 91.79,-108.16 82.77,-113.71 88.19,-118.13\"/>\n",
              "</g>\n",
              "<!-- B -->\n",
              "<g id=\"node2\" class=\"node\">\n",
              "<title>B</title>\n",
              "<ellipse fill=\"none\" stroke=\"black\" cx=\"163.77\" cy=\"-162\" rx=\"52.89\" ry=\"18\"/>\n",
              "<text text-anchor=\"middle\" x=\"163.77\" y=\"-156.95\" font-family=\"Times New Roman,serif\" font-size=\"14.00\">Earthquake</text>\n",
              "</g>\n",
              "<!-- B&#45;&gt;C -->\n",
              "<g id=\"edge2\" class=\"edge\">\n",
              "<title>B&#45;&gt;C</title>\n",
              "<path fill=\"none\" stroke=\"black\" d=\"M150.02,-144.41C142.92,-135.83 134.1,-125.19 126.21,-115.67\"/>\n",
              "<polygon fill=\"black\" stroke=\"black\" points=\"129.06,-113.62 119.98,-108.15 123.67,-118.09 129.06,-113.62\"/>\n",
              "</g>\n",
              "<!-- D -->\n",
              "<g id=\"node4\" class=\"node\">\n",
              "<title>D</title>\n",
              "<ellipse fill=\"none\" stroke=\"black\" cx=\"47.77\" cy=\"-18\" rx=\"47.77\" ry=\"18\"/>\n",
              "<text text-anchor=\"middle\" x=\"47.77\" y=\"-12.95\" font-family=\"Times New Roman,serif\" font-size=\"14.00\">John calls</text>\n",
              "</g>\n",
              "<!-- C&#45;&gt;D -->\n",
              "<g id=\"edge3\" class=\"edge\">\n",
              "<title>C&#45;&gt;D</title>\n",
              "<path fill=\"none\" stroke=\"black\" d=\"M92.61,-73.12C85.52,-64.56 76.6,-53.8 68.59,-44.13\"/>\n",
              "<polygon fill=\"black\" stroke=\"black\" points=\"71.32,-41.94 62.25,-36.47 65.93,-46.41 71.32,-41.94\"/>\n",
              "</g>\n",
              "<!-- E -->\n",
              "<g id=\"node5\" class=\"node\">\n",
              "<title>E</title>\n",
              "<ellipse fill=\"none\" stroke=\"black\" cx=\"164.77\" cy=\"-18\" rx=\"50.84\" ry=\"18\"/>\n",
              "<text text-anchor=\"middle\" x=\"164.77\" y=\"-12.95\" font-family=\"Times New Roman,serif\" font-size=\"14.00\">Mary calls</text>\n",
              "</g>\n",
              "<!-- C&#45;&gt;E -->\n",
              "<g id=\"edge4\" class=\"edge\">\n",
              "<title>C&#45;&gt;E</title>\n",
              "<path fill=\"none\" stroke=\"black\" d=\"M119.16,-73.12C126.45,-64.47 135.63,-53.58 143.84,-43.83\"/>\n",
              "<polygon fill=\"black\" stroke=\"black\" points=\"146.28,-46.37 150.05,-36.46 140.93,-41.85 146.28,-46.37\"/>\n",
              "</g>\n",
              "</g>\n",
              "</svg>\n"
            ],
            "text/plain": [
              "<graphviz.graphs.Digraph at 0x2238f4fb890>"
            ]
          },
          "execution_count": 47,
          "metadata": {},
          "output_type": "execute_result"
        }
      ],
      "source": [
        "dot.render('round_table', directory='figures', format='svg', cleanup=True, view=False)\n",
        "dot"
      ]
    },
    {
      "cell_type": "markdown",
      "metadata": {
        "id": "sFgyZBvyWBzh"
      },
      "source": [
        "**Task 1: convert the graph to Laplacian matrix (in degree), do this either on paper or just write out the matrix here**"
      ]
    },
    {
      "cell_type": "markdown",
      "metadata": {
        "id": "FYn0Vk3JYhYX"
      },
      "source": [
        "In degree:\n",
        "```\n",
        "Adjacency_matrix = [0 0 1 0 0,\n",
        "                    0 0 1 0 0,\n",
        "                    0 0 0 1 1,\n",
        "                    0 0 0 0 0,\n",
        "                    0 0 0 0 0]\n",
        "```\n",
        "\n",
        "```\n",
        "Degree_matrix = [0 0 0 0 0,\n",
        "                 0 0 0 0 0,\n",
        "                 0 0 2 0 0,\n",
        "                 0 0 0 1 0,\n",
        "                 0 0 0 0 1]\n",
        "```\n",
        "\n",
        "\n",
        "```\n",
        "Laplacian_matrix = [0 0 -1 0 0,\n",
        "                    0 0 -1 0 0,\n",
        "                    0 0 2 -1 -1,\n",
        "                    0 0 0 1 0,\n",
        "                    0 0 0 0 1]\n",
        "\n",
        "```\n"
      ]
    },
    {
      "cell_type": "markdown",
      "metadata": {
        "id": "fQvG0YBTWIDa"
      },
      "source": [
        "# Bayesian Network consutrction and inference"
      ]
    },
    {
      "cell_type": "markdown",
      "metadata": {
        "id": "Vx9w5VI9WU7x"
      },
      "source": [
        "Read \"alarm.png\" file from the github link, use sorobn to construct the bayesian network"
      ]
    },
    {
      "cell_type": "code",
      "execution_count": 51,
      "metadata": {
        "id": "PXaxL3eZPAlg"
      },
      "outputs": [
        {
          "ename": "ModuleNotFoundError",
          "evalue": "No module named 'numpy.random.mtrand'",
          "output_type": "error",
          "traceback": [
            "\u001b[31m---------------------------------------------------------------------------\u001b[39m",
            "\u001b[31mModuleNotFoundError\u001b[39m                       Traceback (most recent call last)",
            "\u001b[36mCell\u001b[39m\u001b[36m \u001b[39m\u001b[32mIn[51]\u001b[39m\u001b[32m, line 1\u001b[39m\n\u001b[32m----> \u001b[39m\u001b[32m1\u001b[39m \u001b[38;5;28;01mimport\u001b[39;00m\u001b[38;5;250m \u001b[39m\u001b[34;01msorobn\u001b[39;00m\u001b[38;5;250m \u001b[39m\u001b[38;5;28;01mas\u001b[39;00m\u001b[38;5;250m \u001b[39m\u001b[34;01mhh\u001b[39;00m\n\u001b[32m      2\u001b[39m \u001b[38;5;28;01mimport\u001b[39;00m\u001b[38;5;250m \u001b[39m\u001b[34;01mpandas\u001b[39;00m\u001b[38;5;250m \u001b[39m\u001b[38;5;28;01mas\u001b[39;00m\u001b[38;5;250m \u001b[39m\u001b[34;01mpd\u001b[39;00m\n\u001b[32m      4\u001b[39m bn = hh.BayesNet(\n\u001b[32m      5\u001b[39m     (\u001b[33m'\u001b[39m\u001b[33mBurglary\u001b[39m\u001b[33m'\u001b[39m, \u001b[33m'\u001b[39m\u001b[33mAlarm\u001b[39m\u001b[33m'\u001b[39m),\n\u001b[32m      6\u001b[39m     (\u001b[33m'\u001b[39m\u001b[33mEarthquake\u001b[39m\u001b[33m'\u001b[39m, \u001b[33m'\u001b[39m\u001b[33mAlarm\u001b[39m\u001b[33m'\u001b[39m),\n\u001b[32m   (...)\u001b[39m\u001b[32m      9\u001b[39m     seed=\u001b[32m42\u001b[39m\n\u001b[32m     10\u001b[39m   )\n",
            "\u001b[36mFile \u001b[39m\u001b[32mc:\\Users\\arnot\\Documents\\foundations-ai-ml\\.env\\Lib\\site-packages\\sorobn\\__init__.py:3\u001b[39m\n\u001b[32m      1\u001b[39m \u001b[38;5;28;01mimport\u001b[39;00m\u001b[38;5;250m \u001b[39m\u001b[34;01mos\u001b[39;00m\n\u001b[32m----> \u001b[39m\u001b[32m3\u001b[39m \u001b[38;5;28;01mfrom\u001b[39;00m\u001b[38;5;250m \u001b[39m\u001b[34;01m.\u001b[39;00m\u001b[38;5;250m \u001b[39m\u001b[38;5;28;01mimport\u001b[39;00m examples\n\u001b[32m      4\u001b[39m \u001b[38;5;28;01mfrom\u001b[39;00m\u001b[38;5;250m \u001b[39m\u001b[34;01m.\u001b[39;00m\u001b[38;5;250m \u001b[39m\u001b[38;5;28;01mimport\u001b[39;00m structure\n\u001b[32m      5\u001b[39m \u001b[38;5;28;01mfrom\u001b[39;00m\u001b[38;5;250m \u001b[39m\u001b[34;01m.\u001b[39;00m\u001b[34;01mbayes_net\u001b[39;00m\u001b[38;5;250m \u001b[39m\u001b[38;5;28;01mimport\u001b[39;00m BayesNet\n",
            "\u001b[36mFile \u001b[39m\u001b[32mc:\\Users\\arnot\\Documents\\foundations-ai-ml\\.env\\Lib\\site-packages\\sorobn\\examples.py:1\u001b[39m\n\u001b[32m----> \u001b[39m\u001b[32m1\u001b[39m \u001b[38;5;28;01mimport\u001b[39;00m\u001b[38;5;250m \u001b[39m\u001b[34;01mpandas\u001b[39;00m\u001b[38;5;250m \u001b[39m\u001b[38;5;28;01mas\u001b[39;00m\u001b[38;5;250m \u001b[39m\u001b[34;01mpd\u001b[39;00m\n\u001b[32m      3\u001b[39m \u001b[38;5;28;01mfrom\u001b[39;00m\u001b[38;5;250m \u001b[39m\u001b[34;01m.\u001b[39;00m\u001b[34;01mbayes_net\u001b[39;00m\u001b[38;5;250m \u001b[39m\u001b[38;5;28;01mimport\u001b[39;00m BayesNet\n\u001b[32m      6\u001b[39m __all__ = [\u001b[33m\"\u001b[39m\u001b[33malarm\u001b[39m\u001b[33m\"\u001b[39m, \u001b[33m\"\u001b[39m\u001b[33masia\u001b[39m\u001b[33m\"\u001b[39m, \u001b[33m\"\u001b[39m\u001b[33mgrades\u001b[39m\u001b[33m\"\u001b[39m, \u001b[33m\"\u001b[39m\u001b[33msprinkler\u001b[39m\u001b[33m\"\u001b[39m]\n",
            "\u001b[36mFile \u001b[39m\u001b[32mc:\\Users\\arnot\\Documents\\foundations-ai-ml\\.env\\Lib\\site-packages\\pandas\\__init__.py:22\u001b[39m\n\u001b[32m     19\u001b[39m \u001b[38;5;28;01mdel\u001b[39;00m _hard_dependencies, _dependency, _missing_dependencies\n\u001b[32m     21\u001b[39m \u001b[38;5;66;03m# numpy compat\u001b[39;00m\n\u001b[32m---> \u001b[39m\u001b[32m22\u001b[39m \u001b[38;5;28;01mfrom\u001b[39;00m\u001b[38;5;250m \u001b[39m\u001b[34;01mpandas\u001b[39;00m\u001b[34;01m.\u001b[39;00m\u001b[34;01mcompat\u001b[39;00m\u001b[38;5;250m \u001b[39m\u001b[38;5;28;01mimport\u001b[39;00m is_numpy_dev \u001b[38;5;28;01mas\u001b[39;00m _is_numpy_dev  \u001b[38;5;66;03m# pyright: ignore # noqa:F401\u001b[39;00m\n\u001b[32m     24\u001b[39m \u001b[38;5;28;01mtry\u001b[39;00m:\n\u001b[32m     25\u001b[39m     \u001b[38;5;28;01mfrom\u001b[39;00m\u001b[38;5;250m \u001b[39m\u001b[34;01mpandas\u001b[39;00m\u001b[34;01m.\u001b[39;00m\u001b[34;01m_libs\u001b[39;00m\u001b[38;5;250m \u001b[39m\u001b[38;5;28;01mimport\u001b[39;00m hashtable \u001b[38;5;28;01mas\u001b[39;00m _hashtable, lib \u001b[38;5;28;01mas\u001b[39;00m _lib, tslib \u001b[38;5;28;01mas\u001b[39;00m _tslib\n",
            "\u001b[36mFile \u001b[39m\u001b[32mc:\\Users\\arnot\\Documents\\foundations-ai-ml\\.env\\Lib\\site-packages\\pandas\\compat\\__init__.py:17\u001b[39m\n\u001b[32m     14\u001b[39m \u001b[38;5;28;01mimport\u001b[39;00m\u001b[38;5;250m \u001b[39m\u001b[34;01msys\u001b[39;00m\n\u001b[32m     15\u001b[39m \u001b[38;5;28;01mfrom\u001b[39;00m\u001b[38;5;250m \u001b[39m\u001b[34;01mtyping\u001b[39;00m\u001b[38;5;250m \u001b[39m\u001b[38;5;28;01mimport\u001b[39;00m TYPE_CHECKING\n\u001b[32m---> \u001b[39m\u001b[32m17\u001b[39m \u001b[38;5;28;01mfrom\u001b[39;00m\u001b[38;5;250m \u001b[39m\u001b[34;01mpandas\u001b[39;00m\u001b[34;01m.\u001b[39;00m\u001b[34;01m_typing\u001b[39;00m\u001b[38;5;250m \u001b[39m\u001b[38;5;28;01mimport\u001b[39;00m F\n\u001b[32m     18\u001b[39m \u001b[38;5;28;01mfrom\u001b[39;00m\u001b[38;5;250m \u001b[39m\u001b[34;01mpandas\u001b[39;00m\u001b[34;01m.\u001b[39;00m\u001b[34;01mcompat\u001b[39;00m\u001b[34;01m.\u001b[39;00m\u001b[34;01mnumpy\u001b[39;00m\u001b[38;5;250m \u001b[39m\u001b[38;5;28;01mimport\u001b[39;00m (\n\u001b[32m     19\u001b[39m     is_numpy_dev,\n\u001b[32m     20\u001b[39m     np_version_under1p21,\n\u001b[32m     21\u001b[39m )\n\u001b[32m     22\u001b[39m \u001b[38;5;28;01mfrom\u001b[39;00m\u001b[38;5;250m \u001b[39m\u001b[34;01mpandas\u001b[39;00m\u001b[34;01m.\u001b[39;00m\u001b[34;01mcompat\u001b[39;00m\u001b[34;01m.\u001b[39;00m\u001b[34;01mpyarrow\u001b[39;00m\u001b[38;5;250m \u001b[39m\u001b[38;5;28;01mimport\u001b[39;00m (\n\u001b[32m     23\u001b[39m     pa_version_under1p01,\n\u001b[32m     24\u001b[39m     pa_version_under2p0,\n\u001b[32m   (...)\u001b[39m\u001b[32m     31\u001b[39m     pa_version_under9p0,\n\u001b[32m     32\u001b[39m )\n",
            "\u001b[36mFile \u001b[39m\u001b[32mc:\\Users\\arnot\\Documents\\foundations-ai-ml\\.env\\Lib\\site-packages\\pandas\\_typing.py:132\u001b[39m\n\u001b[32m    126\u001b[39m Frequency = Union[\u001b[38;5;28mstr\u001b[39m, \u001b[33m\"\u001b[39m\u001b[33mBaseOffset\u001b[39m\u001b[33m\"\u001b[39m]\n\u001b[32m    127\u001b[39m Axes = Union[AnyArrayLike, List, \u001b[38;5;28mrange\u001b[39m]\n\u001b[32m    129\u001b[39m RandomState = Union[\n\u001b[32m    130\u001b[39m     \u001b[38;5;28mint\u001b[39m,\n\u001b[32m    131\u001b[39m     ArrayLike,\n\u001b[32m--> \u001b[39m\u001b[32m132\u001b[39m     \u001b[43mnp\u001b[49m\u001b[43m.\u001b[49m\u001b[43mrandom\u001b[49m.Generator,\n\u001b[32m    133\u001b[39m     np.random.BitGenerator,\n\u001b[32m    134\u001b[39m     np.random.RandomState,\n\u001b[32m    135\u001b[39m ]\n\u001b[32m    137\u001b[39m \u001b[38;5;66;03m# dtypes\u001b[39;00m\n\u001b[32m    138\u001b[39m NpDtype = Union[\u001b[38;5;28mstr\u001b[39m, np.dtype, type_t[Union[\u001b[38;5;28mstr\u001b[39m, \u001b[38;5;28mcomplex\u001b[39m, \u001b[38;5;28mbool\u001b[39m, \u001b[38;5;28mobject\u001b[39m]]]\n",
            "\u001b[36mFile \u001b[39m\u001b[32mc:\\Users\\arnot\\Documents\\foundations-ai-ml\\.env\\Lib\\site-packages\\numpy\\__init__.py:353\u001b[39m, in \u001b[36m__getattr__\u001b[39m\u001b[34m(attr)\u001b[39m\n\u001b[32m    350\u001b[39m \u001b[38;5;28;01mdef\u001b[39;00m\u001b[38;5;250m \u001b[39m\u001b[34m__dir__\u001b[39m():\n\u001b[32m    351\u001b[39m     public_symbols = \u001b[38;5;28mglobals\u001b[39m().keys() | {\u001b[33m'\u001b[39m\u001b[33mtesting\u001b[39m\u001b[33m'\u001b[39m}\n\u001b[32m    352\u001b[39m     public_symbols -= {\n\u001b[32m--> \u001b[39m\u001b[32m353\u001b[39m         \u001b[33m\"\u001b[39m\u001b[33mcore\u001b[39m\u001b[33m\"\u001b[39m, \u001b[33m\"\u001b[39m\u001b[33mmatrixlib\u001b[39m\u001b[33m\"\u001b[39m,\n\u001b[32m    354\u001b[39m         \u001b[38;5;66;03m# These were moved in 1.25 and may be deprecated eventually:\u001b[39;00m\n\u001b[32m    355\u001b[39m         \u001b[33m\"\u001b[39m\u001b[33mModuleDeprecationWarning\u001b[39m\u001b[33m\"\u001b[39m, \u001b[33m\"\u001b[39m\u001b[33mVisibleDeprecationWarning\u001b[39m\u001b[33m\"\u001b[39m,\n\u001b[32m    356\u001b[39m         \u001b[33m\"\u001b[39m\u001b[33mComplexWarning\u001b[39m\u001b[33m\"\u001b[39m, \u001b[33m\"\u001b[39m\u001b[33mTooHardError\u001b[39m\u001b[33m\"\u001b[39m, \u001b[33m\"\u001b[39m\u001b[33mAxisError\u001b[39m\u001b[33m\"\u001b[39m\n\u001b[32m    357\u001b[39m     }\n\u001b[32m    358\u001b[39m     \u001b[38;5;28;01mreturn\u001b[39;00m \u001b[38;5;28mlist\u001b[39m(public_symbols)\n",
            "\u001b[36mFile \u001b[39m\u001b[32mc:\\Users\\arnot\\Documents\\foundations-ai-ml\\.env\\Lib\\site-packages\\numpy\\random\\__init__.py:180\u001b[39m\n\u001b[32m    126\u001b[39m __all__ = [\n\u001b[32m    127\u001b[39m     \u001b[33m'\u001b[39m\u001b[33mbeta\u001b[39m\u001b[33m'\u001b[39m,\n\u001b[32m    128\u001b[39m     \u001b[33m'\u001b[39m\u001b[33mbinomial\u001b[39m\u001b[33m'\u001b[39m,\n\u001b[32m   (...)\u001b[39m\u001b[32m    176\u001b[39m     \u001b[33m'\u001b[39m\u001b[33mzipf\u001b[39m\u001b[33m'\u001b[39m,\n\u001b[32m    177\u001b[39m ]\n\u001b[32m    179\u001b[39m \u001b[38;5;66;03m# add these for module-freeze analysis (like PyInstaller)\u001b[39;00m\n\u001b[32m--> \u001b[39m\u001b[32m180\u001b[39m \u001b[38;5;28;01mfrom\u001b[39;00m\u001b[38;5;250m \u001b[39m\u001b[34;01m.\u001b[39;00m\u001b[38;5;250m \u001b[39m\u001b[38;5;28;01mimport\u001b[39;00m _pickle\n\u001b[32m    181\u001b[39m \u001b[38;5;28;01mfrom\u001b[39;00m\u001b[38;5;250m \u001b[39m\u001b[34;01m.\u001b[39;00m\u001b[38;5;250m \u001b[39m\u001b[38;5;28;01mimport\u001b[39;00m _common\n\u001b[32m    182\u001b[39m \u001b[38;5;28;01mfrom\u001b[39;00m\u001b[38;5;250m \u001b[39m\u001b[34;01m.\u001b[39;00m\u001b[38;5;250m \u001b[39m\u001b[38;5;28;01mimport\u001b[39;00m _bounded_integers\n",
            "\u001b[36mFile \u001b[39m\u001b[32mc:\\Users\\arnot\\Documents\\foundations-ai-ml\\.env\\Lib\\site-packages\\numpy\\random\\_pickle.py:1\u001b[39m\n\u001b[32m----> \u001b[39m\u001b[32m1\u001b[39m \u001b[38;5;28;01mfrom\u001b[39;00m\u001b[38;5;250m \u001b[39m\u001b[34;01m.\u001b[39;00m\u001b[34;01mmtrand\u001b[39;00m\u001b[38;5;250m \u001b[39m\u001b[38;5;28;01mimport\u001b[39;00m RandomState\n\u001b[32m      2\u001b[39m \u001b[38;5;28;01mfrom\u001b[39;00m\u001b[38;5;250m \u001b[39m\u001b[34;01m.\u001b[39;00m\u001b[34;01m_philox\u001b[39;00m\u001b[38;5;250m \u001b[39m\u001b[38;5;28;01mimport\u001b[39;00m Philox\n\u001b[32m      3\u001b[39m \u001b[38;5;28;01mfrom\u001b[39;00m\u001b[38;5;250m \u001b[39m\u001b[34;01m.\u001b[39;00m\u001b[34;01m_pcg64\u001b[39;00m\u001b[38;5;250m \u001b[39m\u001b[38;5;28;01mimport\u001b[39;00m PCG64, PCG64DXSM\n",
            "\u001b[31mModuleNotFoundError\u001b[39m: No module named 'numpy.random.mtrand'"
          ]
        }
      ],
      "source": [
        "import sorobn as hh\n",
        "import pandas as pd\n",
        "\n",
        "bn = hh.BayesNet(\n",
        "    ('Burglary', 'Alarm'),\n",
        "    ('Earthquake', 'Alarm'),\n",
        "    ('Alarm', 'John calls'),\n",
        "    ('Alarm', 'Mary calls'),\n",
        "    seed=42\n",
        "  )\n",
        "\n",
        "# P(Burglary)\n",
        "bn.P['Burglary'] = pd.Series({False: .999, True: .001}) # P(Burglary=True) = 0.001, P(Burglary=False) = 0.999\n",
        "\n",
        "# P(Earthquake)\n",
        "bn.P['Earthquake'] = pd.Series({False: .998, True: .002}) # P(Earthquake=True) = 0.002, P(Earthquake=False) = 0.998\n",
        "\n",
        "# P(Alarm | Burglary, Earthquake)\n",
        "bn.P['Alarm'] = pd.Series({\n",
        "              (True, True, True): .95, # P(Alarm=True | Burglary=True, Earthquake=True) = 0.95\n",
        "              (True, True, False): .05, # P(Alarm=False | Burglary=True, Earthquake=True) = 0.05\n",
        "\n",
        "              (True, False, True): .94, # P(Alarm=True | Burglary=True, Earthquake=False) = 0.94\n",
        "              (True, False, False): .06, # P(Alarm=False | Burglary=True, Earthquake=False) = 0.06\n",
        "\n",
        "              (False, True, True): .29, # P(Alarm=True | Burglary=False, Earthquake=True) = 0.29\n",
        "              (False, True, False): .71, # P(Alarm=False | Burglary=False, Earthquake=True) = 0.71\n",
        "\n",
        "              (False, False, True): .001, # P(Alarm=True | Burglary=False, Earthquake=False) = 0.001\n",
        "              (False, False, False): .999 # P(Alarm=False | Burglary=False, Earthquake=False) = 0.999\n",
        "          })\n",
        "\n",
        "\n",
        "\n",
        "\n",
        "# P(John calls | Alarm)\n",
        "bn.P['John calls'] = pd.Series({\n",
        "     (True, True): .9, # P(John calls=True | Alarm=True) = 0.9\n",
        "     (True, False): .1, # P(John calls=False | Alarm=True) = 0.1\n",
        "     (False, True): .05,  # P(John calls=True | Alarm=False) = 0.05\n",
        "     (False, False): .95  # P(John calls=False | Alarm=False) = 0.95\n",
        " })\n",
        "\n",
        "# P(Mary calls | Alarm)\n",
        "bn.P['Mary calls'] = pd.Series({\n",
        "     (True, True): .7, # P(Mary calls=True | Alarm=True) = 0.7\n",
        "     (True, False): .3,   # P(Mary calls=False | Alarm=True) = 0.3\n",
        "     (False, True): .01, # P(Mary calls=True | Alarm=False) = 0.01\n",
        "     (False, False): .99 # P(Mary calls=False | Alarm=False) = 0.99\n",
        " })\n"
      ]
    },
    {
      "cell_type": "markdown",
      "metadata": {
        "id": "PMUZD0buWfBZ"
      },
      "source": [
        "Make the network"
      ]
    },
    {
      "cell_type": "code",
      "execution_count": 29,
      "metadata": {
        "id": "6O7-OBvrPT0J"
      },
      "outputs": [
        {
          "ename": "NameError",
          "evalue": "name 'bn' is not defined",
          "output_type": "error",
          "traceback": [
            "\u001b[31m---------------------------------------------------------------------------\u001b[39m",
            "\u001b[31mNameError\u001b[39m                                 Traceback (most recent call last)",
            "\u001b[36mCell\u001b[39m\u001b[36m \u001b[39m\u001b[32mIn[29]\u001b[39m\u001b[32m, line 1\u001b[39m\n\u001b[32m----> \u001b[39m\u001b[32m1\u001b[39m \u001b[43mbn\u001b[49m.prepare()\n",
            "\u001b[31mNameError\u001b[39m: name 'bn' is not defined"
          ]
        }
      ],
      "source": [
        "bn.prepare()"
      ]
    },
    {
      "cell_type": "markdown",
      "metadata": {
        "id": "1KKg3JS_WgxB"
      },
      "source": [
        "# Bayesian network inference"
      ]
    },
    {
      "cell_type": "markdown",
      "metadata": {
        "id": "DQMfVStSPXeZ"
      },
      "source": [
        "What is the likelihood of there being a burglary if both John and Mary call?"
      ]
    },
    {
      "cell_type": "code",
      "execution_count": 34,
      "metadata": {
        "colab": {
          "base_uri": "https://localhost:8080/",
          "height": 178
        },
        "id": "feYONoD5PWPx",
        "outputId": "a6cc39f1-06a3-4184-8d25-14cde932eb4a"
      },
      "outputs": [
        {
          "data": {
            "text/html": [
              "<div>\n",
              "<style scoped>\n",
              "    .dataframe tbody tr th:only-of-type {\n",
              "        vertical-align: middle;\n",
              "    }\n",
              "\n",
              "    .dataframe tbody tr th {\n",
              "        vertical-align: top;\n",
              "    }\n",
              "\n",
              "    .dataframe thead th {\n",
              "        text-align: right;\n",
              "    }\n",
              "</style>\n",
              "<table border=\"1\" class=\"dataframe\">\n",
              "  <thead>\n",
              "    <tr style=\"text-align: right;\">\n",
              "      <th></th>\n",
              "      <th>P(Burglary)</th>\n",
              "    </tr>\n",
              "    <tr>\n",
              "      <th>Burglary</th>\n",
              "      <th></th>\n",
              "    </tr>\n",
              "  </thead>\n",
              "  <tbody>\n",
              "    <tr>\n",
              "      <th>False</th>\n",
              "      <td>0.715828</td>\n",
              "    </tr>\n",
              "    <tr>\n",
              "      <th>True</th>\n",
              "      <td>0.284172</td>\n",
              "    </tr>\n",
              "  </tbody>\n",
              "</table>\n",
              "</div><br><label><b>dtype:</b> float64</label>"
            ],
            "text/plain": [
              "Burglary\n",
              "False    0.715828\n",
              "True     0.284172\n",
              "Name: P(Burglary), dtype: float64"
            ]
          },
          "execution_count": 34,
          "metadata": {},
          "output_type": "execute_result"
        }
      ],
      "source": [
        "bn.query('Burglary', event={'Mary calls': True, 'John calls': True})"
      ]
    },
    {
      "cell_type": "markdown",
      "metadata": {
        "id": "wueyKGvAPdSh"
      },
      "source": [
        "What are the chances that John and Mary call if an earthquake happens?"
      ]
    },
    {
      "cell_type": "code",
      "execution_count": 8,
      "metadata": {
        "colab": {
          "base_uri": "https://localhost:8080/",
          "height": 241
        },
        "id": "utk9ZNVePbRJ",
        "outputId": "66c51853-1d9f-40f8-afd6-469bc35333c6"
      },
      "outputs": [
        {
          "data": {
            "text/html": [
              "<div>\n",
              "<style scoped>\n",
              "    .dataframe tbody tr th:only-of-type {\n",
              "        vertical-align: middle;\n",
              "    }\n",
              "\n",
              "    .dataframe tbody tr th {\n",
              "        vertical-align: top;\n",
              "    }\n",
              "\n",
              "    .dataframe thead th {\n",
              "        text-align: right;\n",
              "    }\n",
              "</style>\n",
              "<table border=\"1\" class=\"dataframe\">\n",
              "  <thead>\n",
              "    <tr style=\"text-align: right;\">\n",
              "      <th></th>\n",
              "      <th></th>\n",
              "      <th>P(John calls, Mary calls)</th>\n",
              "    </tr>\n",
              "    <tr>\n",
              "      <th>John calls</th>\n",
              "      <th>Mary calls</th>\n",
              "      <th></th>\n",
              "    </tr>\n",
              "  </thead>\n",
              "  <tbody>\n",
              "    <tr>\n",
              "      <th rowspan=\"2\" valign=\"top\">False</th>\n",
              "      <th>False</th>\n",
              "      <td>0.675854</td>\n",
              "    </tr>\n",
              "    <tr>\n",
              "      <th>True</th>\n",
              "      <td>0.027085</td>\n",
              "    </tr>\n",
              "    <tr>\n",
              "      <th rowspan=\"2\" valign=\"top\">True</th>\n",
              "      <th>False</th>\n",
              "      <td>0.113591</td>\n",
              "    </tr>\n",
              "    <tr>\n",
              "      <th>True</th>\n",
              "      <td>0.183470</td>\n",
              "    </tr>\n",
              "  </tbody>\n",
              "</table>\n",
              "</div><br><label><b>dtype:</b> float64</label>"
            ],
            "text/plain": [
              "John calls  Mary calls\n",
              "False       False         0.675854\n",
              "            True          0.027085\n",
              "True        False         0.113591\n",
              "            True          0.183470\n",
              "Name: P(John calls, Mary calls), dtype: float64"
            ]
          },
          "execution_count": 8,
          "metadata": {},
          "output_type": "execute_result"
        }
      ],
      "source": [
        "bn.query('John calls', 'Mary calls', event={'Earthquake': True})"
      ]
    },
    {
      "cell_type": "markdown",
      "metadata": {
        "id": "wniFfFAfYhYY"
      },
      "source": [
        "Practice.png"
      ]
    },
    {
      "cell_type": "code",
      "execution_count": 47,
      "metadata": {
        "id": "o_b9ldKLYhYY"
      },
      "outputs": [],
      "source": [
        "bn = hh.BayesNet(\n",
        "    (\"A\", \"B\"),\n",
        "    (\"B\", \"F\"),\n",
        "    (\"C\", \"D\"),\n",
        "    (\"D\", \"F\"),\n",
        "    seed=42,\n",
        ") # Correct connections between nodes, just need to add probabilities like above\n",
        "\n",
        "# P(A)\n",
        "bn.P['A'] = pd.Series({False: 0.9, True: 0.1})\n",
        "\n",
        "# P(B|A)\n",
        "bn.P['B'] = pd.Series({\n",
        "    (True, True): 0.4, # P(B = True | A = True)\n",
        "    (True, False): 0.6, # P(B = False | A = True)\n",
        "\n",
        "    (False, True): 0.9, #P(B = True | A = False)\n",
        "    (False, False): 0.1 #P(B = False | A = False)\n",
        "})\n",
        "\n",
        "# P(C)\n",
        "bn.P['C'] = pd.Series({False: 0.9, True: 0.1})\n",
        "\n",
        "# P(D|C)\n",
        "bn.P['D'] = pd.Series({\n",
        "    (True, True): 0.3, # P(D = True | C = True)\n",
        "    (True, False): 0.7, # P(D = False | C = True)\n",
        "\n",
        "    (False, True): 0.6, #P(D = True | C = False)\n",
        "    (False, False): 0.4 #P(D = False | C = False)\n",
        "})\n",
        "\n",
        "\n",
        "# P(F| B, D)\n",
        "bn.P['F'] = pd.Series({\n",
        "    (True, True, True): 0.7, # P(F = True | B = True, D = True)\n",
        "    (True, True, False): 0.3, # P(F = False | B = True, D = True)\n",
        "\n",
        "    (True, False, True): 0.4, #P(F = True | B = True, D = False)\n",
        "    (True, False, False): 0.6, #P(F = False | B = True, D = False)\n",
        "\n",
        "    (False, True, True): 0.2, #P(F = True | B = False, D = True)\n",
        "    (False, True, False): 0.8, #P(F = False | B = False, D = True)\n",
        "\n",
        "    (False, False, True): 0, #P(F = True | B = False, D = False)\n",
        "    (False, False, False): 1 #P(F = False | B = False, D = False)\n",
        "})\n",
        "\n",
        "bn.prepare()"
      ]
    },
    {
      "cell_type": "code",
      "execution_count": 48,
      "metadata": {
        "colab": {
          "base_uri": "https://localhost:8080/"
        },
        "id": "aL4OGtBteK5W",
        "outputId": "a580c8df-d8c6-4102-9c38-6b482470b369"
      },
      "outputs": [
        {
          "name": "stdout",
          "output_type": "stream",
          "text": [
            "0.9\n",
            "0.1\n",
            "0.1\n",
            "0.3\n",
            "0.8\n"
          ]
        }
      ],
      "source": [
        "# test\n",
        "print(bn.P['A'][False])               # P(A = False)\n",
        "print(bn.P['B'][(False, False)])      # P(B = False | A = False)\n",
        "print(bn.P['C'][True])                # P(C = True)\n",
        "print(bn.P['D'][(True, True)])        # P(D = True | C = True)\n",
        "print(bn.P['F'][(False, True, False)]) # P(F = False | B = False, D = True)\n"
      ]
    },
    {
      "cell_type": "markdown",
      "metadata": {
        "id": "WwcJ2IeZYhYY"
      },
      "source": [
        "**Task 2:** What is the likelihood of F is true if A&D is true, B&C is False?"
      ]
    },
    {
      "cell_type": "code",
      "execution_count": 49,
      "metadata": {
        "colab": {
          "base_uri": "https://localhost:8080/",
          "height": 178
        },
        "id": "afYVaKT4YhYY",
        "outputId": "04384e4a-d5af-4a47-d3d2-ebabd50f6337"
      },
      "outputs": [
        {
          "data": {
            "text/html": [
              "<div>\n",
              "<style scoped>\n",
              "    .dataframe tbody tr th:only-of-type {\n",
              "        vertical-align: middle;\n",
              "    }\n",
              "\n",
              "    .dataframe tbody tr th {\n",
              "        vertical-align: top;\n",
              "    }\n",
              "\n",
              "    .dataframe thead th {\n",
              "        text-align: right;\n",
              "    }\n",
              "</style>\n",
              "<table border=\"1\" class=\"dataframe\">\n",
              "  <thead>\n",
              "    <tr style=\"text-align: right;\">\n",
              "      <th></th>\n",
              "      <th>P(F)</th>\n",
              "    </tr>\n",
              "    <tr>\n",
              "      <th>F</th>\n",
              "      <th></th>\n",
              "    </tr>\n",
              "  </thead>\n",
              "  <tbody>\n",
              "    <tr>\n",
              "      <th>False</th>\n",
              "      <td>0.8</td>\n",
              "    </tr>\n",
              "    <tr>\n",
              "      <th>True</th>\n",
              "      <td>0.2</td>\n",
              "    </tr>\n",
              "  </tbody>\n",
              "</table>\n",
              "</div><br><label><b>dtype:</b> float64</label>"
            ],
            "text/plain": [
              "F\n",
              "False    0.8\n",
              "True     0.2\n",
              "Name: P(F), dtype: float64"
            ]
          },
          "execution_count": 49,
          "metadata": {},
          "output_type": "execute_result"
        }
      ],
      "source": [
        "bn.query('F', event={'A': True, 'B': False, 'C': False, 'D': True})\n",
        "# P(F=True|A=True, B=False, C=False, D=True) = 0.2"
      ]
    },
    {
      "cell_type": "markdown",
      "metadata": {
        "id": "wHbnZkfPYhYY"
      },
      "source": [
        "**Task 3:** What is the likelihood of F is False if A&B is False, C&D is True?\n",
        "\n"
      ]
    },
    {
      "cell_type": "code",
      "execution_count": 50,
      "metadata": {
        "colab": {
          "base_uri": "https://localhost:8080/",
          "height": 178
        },
        "id": "hrjEBGkqYhYZ",
        "outputId": "b8926dab-6529-4a6f-e231-f1405fbc5b1b"
      },
      "outputs": [
        {
          "data": {
            "text/html": [
              "<div>\n",
              "<style scoped>\n",
              "    .dataframe tbody tr th:only-of-type {\n",
              "        vertical-align: middle;\n",
              "    }\n",
              "\n",
              "    .dataframe tbody tr th {\n",
              "        vertical-align: top;\n",
              "    }\n",
              "\n",
              "    .dataframe thead th {\n",
              "        text-align: right;\n",
              "    }\n",
              "</style>\n",
              "<table border=\"1\" class=\"dataframe\">\n",
              "  <thead>\n",
              "    <tr style=\"text-align: right;\">\n",
              "      <th></th>\n",
              "      <th>P(F)</th>\n",
              "    </tr>\n",
              "    <tr>\n",
              "      <th>F</th>\n",
              "      <th></th>\n",
              "    </tr>\n",
              "  </thead>\n",
              "  <tbody>\n",
              "    <tr>\n",
              "      <th>False</th>\n",
              "      <td>0.8</td>\n",
              "    </tr>\n",
              "    <tr>\n",
              "      <th>True</th>\n",
              "      <td>0.2</td>\n",
              "    </tr>\n",
              "  </tbody>\n",
              "</table>\n",
              "</div><br><label><b>dtype:</b> float64</label>"
            ],
            "text/plain": [
              "F\n",
              "False    0.8\n",
              "True     0.2\n",
              "Name: P(F), dtype: float64"
            ]
          },
          "execution_count": 50,
          "metadata": {},
          "output_type": "execute_result"
        }
      ],
      "source": [
        "bn.query('F', event={'A': False, 'B': False, 'C': True, 'D': True})\n",
        "# P(F=False|A=False, B=False, C=True, D=True) = 0.8"
      ]
    }
  ],
  "metadata": {
    "colab": {
      "provenance": []
    },
    "kernelspec": {
      "display_name": ".env",
      "language": "python",
      "name": "python3"
    },
    "language_info": {
      "codemirror_mode": {
        "name": "ipython",
        "version": 3
      },
      "file_extension": ".py",
      "mimetype": "text/x-python",
      "name": "python",
      "nbconvert_exporter": "python",
      "pygments_lexer": "ipython3",
      "version": "3.11.9"
    }
  },
  "nbformat": 4,
  "nbformat_minor": 0
}
