{
 "cells": [
  {
   "cell_type": "markdown",
   "metadata": {
    "id": "WTt4jy2lV6Cp"
   },
   "source": [
    "# Learn to plot Bayesian Network"
   ]
  },
  {
   "cell_type": "code",
   "execution_count": 1,
   "metadata": {},
   "outputs": [
    {
     "name": "stdout",
     "output_type": "stream",
     "text": [
      "Requirement already satisfied: cython in c:\\users\\arnot\\onedrive - lut university\\koneoppi\\faiml\\.faiml_env\\lib\\site-packages (3.0.11)\n"
     ]
    },
    {
     "name": "stderr",
     "output_type": "stream",
     "text": [
      "\n",
      "[notice] A new release of pip is available: 24.2 -> 24.3.1\n",
      "[notice] To update, run: python.exe -m pip install --upgrade pip\n"
     ]
    },
    {
     "name": "stdout",
     "output_type": "stream",
     "text": [
      "Collecting vose<0.0.2\n",
      "  Using cached vose-0.0.1.tar.gz (129 kB)\n",
      "  Preparing metadata (pyproject.toml): started\n",
      "  Preparing metadata (pyproject.toml): finished with status 'error'\n"
     ]
    },
    {
     "name": "stderr",
     "output_type": "stream",
     "text": [
      "  error: subprocess-exited-with-error\n",
      "  \n",
      "  × Preparing metadata (pyproject.toml) did not run successfully.\n",
      "  │ exit code: 1\n",
      "  ╰─> [91 lines of output]\n",
      "      Compiling vose/sampler.pyx because it changed.\n",
      "      [1/1] Cythonizing vose/sampler.pyx\n",
      "      \n",
      "      Error compiling Cython file:\n",
      "      ------------------------------------------------------------\n",
      "      ...\n",
      "      cimport numpy as np\n",
      "      \n",
      "      cdef class Sampler:\n",
      "      \n",
      "          cdef int n\n",
      "          cdef np.int_t [:] alias\n",
      "               ^\n",
      "      ------------------------------------------------------------\n",
      "      \n",
      "      vose\\sampler.pxd:6:9: 'int_t' is not a type identifier\n",
      "      \n",
      "      Error compiling Cython file:\n",
      "      ------------------------------------------------------------\n",
      "      ...\n",
      "          cdef int n\n",
      "          cdef np.int_t [:] alias\n",
      "          cdef np.float_t [:] proba\n",
      "      \n",
      "          cdef int sample_1(self)\n",
      "          cdef np.int_t [:] sample_k(self, int k)\n",
      "               ^\n",
      "      ------------------------------------------------------------\n",
      "      \n",
      "      vose\\sampler.pxd:10:9: 'int_t' is not a type identifier\n",
      "      \n",
      "      Error compiling Cython file:\n",
      "      ------------------------------------------------------------\n",
      "      ...\n",
      "              # Based on the outcome, return either the column or its alias.\n",
      "              if heads:\n",
      "                  return col\n",
      "              return self.alias[col]\n",
      "      \n",
      "          cdef np.int_t [:] sample_k(self, int k):\n",
      "               ^\n",
      "      ------------------------------------------------------------\n",
      "      \n",
      "      vose\\sampler.pyx:141:9: 'int_t' is not a type identifier\n",
      "      \n",
      "      Error compiling Cython file:\n",
      "      ------------------------------------------------------------\n",
      "      ...\n",
      "      \n",
      "              if copy:\n",
      "                  weights = weights.copy()\n",
      "      \n",
      "              cdef int n = weights.size\n",
      "              cdef np.int_t [:] alias = np.zeros(n, dtype=int)\n",
      "                   ^\n",
      "      ------------------------------------------------------------\n",
      "      \n",
      "      vose\\sampler.pyx:67:13: 'int_t' is not a type identifier\n",
      "      \n",
      "      Error compiling Cython file:\n",
      "      ------------------------------------------------------------\n",
      "      ...\n",
      "              if heads:\n",
      "                  return col\n",
      "              return self.alias[col]\n",
      "      \n",
      "          cdef np.int_t [:] sample_k(self, int k):\n",
      "              cdef np.int_t [:] samples = np.zeros(k, dtype=int)\n",
      "                   ^\n",
      "      ------------------------------------------------------------\n",
      "      \n",
      "      vose\\sampler.pyx:142:13: 'int_t' is not a type identifier\n",
      "      Traceback (most recent call last):\n",
      "        File \"C:\\Users\\arnot\\OneDrive - LUT University\\Koneoppi\\FAIML\\.FAIML_env\\lib\\site-packages\\pip\\_vendor\\pyproject_hooks\\_in_process\\_in_process.py\", line 353, in <module>\n",
      "          main()\n",
      "        File \"C:\\Users\\arnot\\OneDrive - LUT University\\Koneoppi\\FAIML\\.FAIML_env\\lib\\site-packages\\pip\\_vendor\\pyproject_hooks\\_in_process\\_in_process.py\", line 335, in main\n",
      "          json_out['return_val'] = hook(**hook_input['kwargs'])\n",
      "        File \"C:\\Users\\arnot\\OneDrive - LUT University\\Koneoppi\\FAIML\\.FAIML_env\\lib\\site-packages\\pip\\_vendor\\pyproject_hooks\\_in_process\\_in_process.py\", line 149, in prepare_metadata_for_build_wheel\n",
      "          return hook(metadata_directory, config_settings)\n",
      "        File \"C:\\Users\\arnot\\OneDrive - LUT University\\Koneoppi\\FAIML\\.FAIML_env\\lib\\site-packages\\setuptools\\build_meta.py\", line 377, in prepare_metadata_for_build_wheel\n",
      "          self.run_setup()\n",
      "        File \"C:\\Users\\arnot\\OneDrive - LUT University\\Koneoppi\\FAIML\\.FAIML_env\\lib\\site-packages\\setuptools\\build_meta.py\", line 483, in run_setup\n",
      "          super(_BuildMetaLegacyBackend,\n",
      "        File \"C:\\Users\\arnot\\OneDrive - LUT University\\Koneoppi\\FAIML\\.FAIML_env\\lib\\site-packages\\setuptools\\build_meta.py\", line 335, in run_setup\n",
      "          exec(code, locals())\n",
      "        File \"<string>\", line 28, in <module>\n",
      "        File \"C:\\Users\\arnot\\OneDrive - LUT University\\Koneoppi\\FAIML\\.FAIML_env\\lib\\site-packages\\Cython\\Build\\Dependencies.py\", line 1154, in cythonize\n",
      "          cythonize_one(*args)\n",
      "        File \"C:\\Users\\arnot\\OneDrive - LUT University\\Koneoppi\\FAIML\\.FAIML_env\\lib\\site-packages\\Cython\\Build\\Dependencies.py\", line 1321, in cythonize_one\n",
      "          raise CompileError(None, pyx_file)\n",
      "      Cython.Compiler.Errors.CompileError: vose/sampler.pyx\n",
      "      [end of output]\n",
      "  \n",
      "  note: This error originates from a subprocess, and is likely not a problem with pip.\n",
      "\n",
      "[notice] A new release of pip is available: 24.2 -> 24.3.1\n",
      "[notice] To update, run: python.exe -m pip install --upgrade pip\n",
      "error: metadata-generation-failed\n",
      "\n",
      "× Encountered error while generating package metadata.\n",
      "╰─> See above for output.\n",
      "\n",
      "note: This is an issue with the package mentioned above, not pip.\n",
      "hint: See above for details.\n"
     ]
    },
    {
     "name": "stdout",
     "output_type": "stream",
     "text": [
      "Collecting sorobn\n",
      "  Using cached sorobn-0.3.0-py3-none-any.whl.metadata (551 bytes)\n",
      "Collecting numpy<2.0.0,>=1.24.2 (from sorobn)\n",
      "  Using cached numpy-1.26.4-cp310-cp310-win_amd64.whl.metadata (61 kB)\n",
      "Collecting pandas<2.0.0,>=1.5.3 (from sorobn)\n",
      "  Using cached pandas-1.5.3-cp310-cp310-win_amd64.whl.metadata (12 kB)\n",
      "Collecting vose<0.0.2,>=0.0.1 (from sorobn)\n",
      "  Using cached vose-0.0.1.tar.gz (129 kB)\n",
      "  Installing build dependencies: started\n",
      "  Installing build dependencies: finished with status 'done'\n",
      "  Getting requirements to build wheel: started\n",
      "  Getting requirements to build wheel: finished with status 'error'\n"
     ]
    },
    {
     "name": "stderr",
     "output_type": "stream",
     "text": [
      "  error: subprocess-exited-with-error\n",
      "  \n",
      "  × Getting requirements to build wheel did not run successfully.\n",
      "  │ exit code: 1\n",
      "  ╰─> [93 lines of output]\n",
      "      Compiling vose/sampler.pyx because it changed.\n",
      "      [1/1] Cythonizing vose/sampler.pyx\n",
      "      \n",
      "      Error compiling Cython file:\n",
      "      ------------------------------------------------------------\n",
      "      ...\n",
      "      cimport numpy as np\n",
      "      \n",
      "      cdef class Sampler:\n",
      "      \n",
      "          cdef int n\n",
      "          cdef np.int_t [:] alias\n",
      "               ^\n",
      "      ------------------------------------------------------------\n",
      "      \n",
      "      vose\\sampler.pxd:6:9: 'int_t' is not a type identifier\n",
      "      \n",
      "      Error compiling Cython file:\n",
      "      ------------------------------------------------------------\n",
      "      ...\n",
      "          cdef int n\n",
      "          cdef np.int_t [:] alias\n",
      "          cdef np.float_t [:] proba\n",
      "      \n",
      "          cdef int sample_1(self)\n",
      "          cdef np.int_t [:] sample_k(self, int k)\n",
      "               ^\n",
      "      ------------------------------------------------------------\n",
      "      \n",
      "      vose\\sampler.pxd:10:9: 'int_t' is not a type identifier\n",
      "      \n",
      "      Error compiling Cython file:\n",
      "      ------------------------------------------------------------\n",
      "      ...\n",
      "              # Based on the outcome, return either the column or its alias.\n",
      "              if heads:\n",
      "                  return col\n",
      "              return self.alias[col]\n",
      "      \n",
      "          cdef np.int_t [:] sample_k(self, int k):\n",
      "               ^\n",
      "      ------------------------------------------------------------\n",
      "      \n",
      "      vose\\sampler.pyx:141:9: 'int_t' is not a type identifier\n",
      "      \n",
      "      Error compiling Cython file:\n",
      "      ------------------------------------------------------------\n",
      "      ...\n",
      "      \n",
      "              if copy:\n",
      "                  weights = weights.copy()\n",
      "      \n",
      "              cdef int n = weights.size\n",
      "              cdef np.int_t [:] alias = np.zeros(n, dtype=int)\n",
      "                   ^\n",
      "      ------------------------------------------------------------\n",
      "      \n",
      "      vose\\sampler.pyx:67:13: 'int_t' is not a type identifier\n",
      "      \n",
      "      Error compiling Cython file:\n",
      "      ------------------------------------------------------------\n",
      "      ...\n",
      "              if heads:\n",
      "                  return col\n",
      "              return self.alias[col]\n",
      "      \n",
      "          cdef np.int_t [:] sample_k(self, int k):\n",
      "              cdef np.int_t [:] samples = np.zeros(k, dtype=int)\n",
      "                   ^\n",
      "      ------------------------------------------------------------\n",
      "      \n",
      "      vose\\sampler.pyx:142:13: 'int_t' is not a type identifier\n",
      "      Traceback (most recent call last):\n",
      "        File \"C:\\Users\\arnot\\OneDrive - LUT University\\Koneoppi\\FAIML\\.FAIML_env\\lib\\site-packages\\pip\\_vendor\\pyproject_hooks\\_in_process\\_in_process.py\", line 353, in <module>\n",
      "          main()\n",
      "        File \"C:\\Users\\arnot\\OneDrive - LUT University\\Koneoppi\\FAIML\\.FAIML_env\\lib\\site-packages\\pip\\_vendor\\pyproject_hooks\\_in_process\\_in_process.py\", line 335, in main\n",
      "          json_out['return_val'] = hook(**hook_input['kwargs'])\n",
      "        File \"C:\\Users\\arnot\\OneDrive - LUT University\\Koneoppi\\FAIML\\.FAIML_env\\lib\\site-packages\\pip\\_vendor\\pyproject_hooks\\_in_process\\_in_process.py\", line 118, in get_requires_for_build_wheel\n",
      "          return hook(config_settings)\n",
      "        File \"C:\\Users\\arnot\\AppData\\Local\\Temp\\pip-build-env-bh1g5nl2\\overlay\\Lib\\site-packages\\setuptools\\build_meta.py\", line 333, in get_requires_for_build_wheel\n",
      "          return self._get_build_requires(config_settings, requirements=[])\n",
      "        File \"C:\\Users\\arnot\\AppData\\Local\\Temp\\pip-build-env-bh1g5nl2\\overlay\\Lib\\site-packages\\setuptools\\build_meta.py\", line 303, in _get_build_requires\n",
      "          self.run_setup()\n",
      "        File \"C:\\Users\\arnot\\AppData\\Local\\Temp\\pip-build-env-bh1g5nl2\\overlay\\Lib\\site-packages\\setuptools\\build_meta.py\", line 521, in run_setup\n",
      "          super().run_setup(setup_script=setup_script)\n",
      "        File \"C:\\Users\\arnot\\AppData\\Local\\Temp\\pip-build-env-bh1g5nl2\\overlay\\Lib\\site-packages\\setuptools\\build_meta.py\", line 319, in run_setup\n",
      "          exec(code, locals())\n",
      "        File \"<string>\", line 28, in <module>\n",
      "        File \"C:\\Users\\arnot\\AppData\\Local\\Temp\\pip-build-env-bh1g5nl2\\overlay\\Lib\\site-packages\\Cython\\Build\\Dependencies.py\", line 1154, in cythonize\n",
      "          cythonize_one(*args)\n",
      "        File \"C:\\Users\\arnot\\AppData\\Local\\Temp\\pip-build-env-bh1g5nl2\\overlay\\Lib\\site-packages\\Cython\\Build\\Dependencies.py\", line 1321, in cythonize_one\n",
      "          raise CompileError(None, pyx_file)\n",
      "      Cython.Compiler.Errors.CompileError: vose/sampler.pyx\n",
      "      [end of output]\n",
      "  \n",
      "  note: This error originates from a subprocess, and is likely not a problem with pip.\n",
      "\n",
      "[notice] A new release of pip is available: 24.2 -> 24.3.1\n",
      "[notice] To update, run: python.exe -m pip install --upgrade pip\n",
      "error: subprocess-exited-with-error\n",
      "\n",
      "× Getting requirements to build wheel did not run successfully.\n",
      "│ exit code: 1\n",
      "╰─> See above for output.\n",
      "\n",
      "note: This error originates from a subprocess, and is likely not a problem with pip.\n"
     ]
    },
    {
     "name": "stdout",
     "output_type": "stream",
     "text": [
      "Requirement already satisfied: graphviz in c:\\users\\arnot\\onedrive - lut university\\koneoppi\\faiml\\.faiml_env\\lib\\site-packages (0.20.3)\n"
     ]
    },
    {
     "name": "stderr",
     "output_type": "stream",
     "text": [
      "\n",
      "[notice] A new release of pip is available: 24.2 -> 24.3.1\n",
      "[notice] To update, run: python.exe -m pip install --upgrade pip\n"
     ]
    }
   ],
   "source": [
    "!pip install cython\n",
    "!pip install \"vose<0.0.2\" --no-build-isolation\n",
    "!pip install sorobn\n",
    "!pip install graphviz"
   ]
  },
  {
   "cell_type": "code",
   "execution_count": null,
   "metadata": {
    "id": "Y3CkOET-OhIx"
   },
   "outputs": [],
   "source": [
    "import graphviz\n",
    "\n",
    "dot = graphviz.Digraph(comment='alarm')\n",
    "dot.node('A', 'Burglary')\n",
    "dot.node('B', 'Earthquake')\n",
    "dot.node('C', 'Alarm')\n",
    "dot.node('D', 'John calls')\n",
    "dot.node('E', 'Mary calls')\n",
    "\n",
    "dot.edges(['AC', 'BC', 'CD', 'CE'])"
   ]
  },
  {
   "cell_type": "code",
   "execution_count": null,
   "metadata": {
    "colab": {
     "base_uri": "https://localhost:8080/"
    },
    "id": "M6Er0F5HOyUp",
    "outputId": "c0245428-1af0-4b40-9e12-2dd4f83a1e67"
   },
   "outputs": [],
   "source": [
    "print(dot.source)"
   ]
  },
  {
   "cell_type": "code",
   "execution_count": null,
   "metadata": {
    "colab": {
     "base_uri": "https://localhost:8080/",
     "height": 271
    },
    "id": "khVcYdyoOzZ4",
    "outputId": "7b4fa285-d9fe-4419-d512-abfbf6502cfa"
   },
   "outputs": [],
   "source": [
    "dot.render('round_table', directory='figures', format='svg', cleanup=True, view=True)\n",
    "dot"
   ]
  },
  {
   "cell_type": "markdown",
   "metadata": {
    "id": "sFgyZBvyWBzh"
   },
   "source": [
    "**Task 1: convert the graph to Laplacian matrix (in degree), do this either on paper or just write out the matrix here**"
   ]
  },
  {
   "cell_type": "markdown",
   "metadata": {},
   "source": []
  },
  {
   "cell_type": "markdown",
   "metadata": {
    "id": "fQvG0YBTWIDa"
   },
   "source": [
    "# Bayesian Network consutrction and inference"
   ]
  },
  {
   "cell_type": "markdown",
   "metadata": {
    "id": "Vx9w5VI9WU7x"
   },
   "source": [
    "Read \"alarm.png\" file from the github link, use sorobn to construct the bayesian network"
   ]
  },
  {
   "cell_type": "code",
   "execution_count": null,
   "metadata": {
    "id": "PXaxL3eZPAlg"
   },
   "outputs": [],
   "source": [
    "import sorobn as hh\n",
    "import pandas as pd\n",
    "\n",
    "bn = hh.BayesNet(\n",
    "    ('Burglary', 'Alarm'),\n",
    "    ('Earthquake', 'Alarm'),\n",
    "    ('Alarm', 'John calls'),\n",
    "    ('Alarm', 'Mary calls'),\n",
    "    seed=42\n",
    "  )\n",
    "\n",
    "# P(Burglary)\n",
    "bn.P['Burglary'] = pd.Series({False: .999, True: .001}) # P(Burglary=True) = 0.001, P(Burglary=False) = 0.999\n",
    "\n",
    "# P(Earthquake)\n",
    "bn.P['Earthquake'] = pd.Series({False: .998, True: .002}) # P(Earthquake=True) = 0.002, P(Earthquake=False) = 0.998\n",
    "\n",
    "# P(Alarm | Burglary, Earthquake)\n",
    "bn.P['Alarm'] = pd.Series({\n",
    "              (True, True, True): .95, # P(Alarm=True | Burglary=True, Earthquake=True) = 0.95\n",
    "              (True, True, False): .05, # P(Alarm=False | Burglary=True, Earthquake=True) = 0.05\n",
    "\n",
    "              (True, False, True): .94, # P(Alarm=True | Burglary=True, Earthquake=False) = 0.94\n",
    "              (True, False, False): .06, # P(Alarm=False | Burglary=True, Earthquake=False) = 0.06\n",
    "\n",
    "              (False, True, True): .29, # P(Alarm=True | Burglary=False, Earthquake=True) = 0.29\n",
    "              (False, True, False): .71, # P(Alarm=False | Burglary=False, Earthquake=True) = 0.71\n",
    "\n",
    "              (False, False, True): .001, # P(Alarm=True | Burglary=False, Earthquake=False) = 0.001 \n",
    "              (False, False, False): .999 # P(Alarm=False | Burglary=False, Earthquake=False) = 0.999\n",
    "          })\n",
    "\n",
    "\n",
    "\n",
    "\n",
    "# P(John calls | Alarm)\n",
    "bn.P['John calls'] = pd.Series({\n",
    "     (True, True): .9, # P(John calls=True | Alarm=True) = 0.9\n",
    "     (True, False): .1, # P(John calls=False | Alarm=True) = 0.1\n",
    "     (False, True): .05,  # P(John calls=True | Alarm=False) = 0.05\n",
    "     (False, False): .95  # P(John calls=False | Alarm=False) = 0.95\n",
    " }) \n",
    "\n",
    "# P(Mary calls | Alarm)\n",
    "bn.P['Mary calls'] = pd.Series({\n",
    "     (True, True): .7, # P(Mary calls=True | Alarm=True) = 0.7\n",
    "     (True, False): .3,   # P(Mary calls=False | Alarm=True) = 0.3    \n",
    "     (False, True): .01, # P(Mary calls=True | Alarm=False) = 0.01\n",
    "     (False, False): .99 # P(Mary calls=False | Alarm=False) = 0.99\n",
    " })\n"
   ]
  },
  {
   "cell_type": "markdown",
   "metadata": {
    "id": "PMUZD0buWfBZ"
   },
   "source": [
    "Make the network"
   ]
  },
  {
   "cell_type": "code",
   "execution_count": null,
   "metadata": {
    "id": "6O7-OBvrPT0J"
   },
   "outputs": [],
   "source": [
    "bn.prepare()"
   ]
  },
  {
   "cell_type": "markdown",
   "metadata": {
    "id": "1KKg3JS_WgxB"
   },
   "source": [
    "# Bayesian network inference"
   ]
  },
  {
   "cell_type": "markdown",
   "metadata": {
    "id": "DQMfVStSPXeZ"
   },
   "source": [
    "What is the likelihood of there being a burglary if both John and Mary call?"
   ]
  },
  {
   "cell_type": "code",
   "execution_count": null,
   "metadata": {
    "colab": {
     "base_uri": "https://localhost:8080/"
    },
    "id": "feYONoD5PWPx",
    "outputId": "0869932e-9278-43ce-96f2-34e4b536a0bb"
   },
   "outputs": [],
   "source": [
    "bn.query('Burglary', event={'Mary calls': True, 'John calls': True})"
   ]
  },
  {
   "cell_type": "markdown",
   "metadata": {
    "id": "wueyKGvAPdSh"
   },
   "source": [
    "What are the chances that John and Mary call if an earthquake happens?"
   ]
  },
  {
   "cell_type": "code",
   "execution_count": null,
   "metadata": {
    "colab": {
     "base_uri": "https://localhost:8080/"
    },
    "id": "utk9ZNVePbRJ",
    "outputId": "f8ec1a68-0898-4361-f296-ea310dd27f58"
   },
   "outputs": [],
   "source": [
    "bn.query('John calls', 'Mary calls', event={'Earthquake': True})"
   ]
  },
  {
   "cell_type": "markdown",
   "metadata": {},
   "source": [
    "Practice.png"
   ]
  },
  {
   "cell_type": "code",
   "execution_count": null,
   "metadata": {},
   "outputs": [],
   "source": [
    "bn = hh.BayesNet(\n",
    "    (\"A\", \"B\"),\n",
    "    (\"B\", \"F\"),\n",
    "    (\"C\", \"D\"),\n",
    "    (\"D\", \"F\"),\n",
    "    seed=42,\n",
    ") # Correct connections between nodes, just need to add probabilities like above\n",
    "\n",
    "\n",
    "bn.prepare()"
   ]
  },
  {
   "cell_type": "markdown",
   "metadata": {},
   "source": [
    "**Task 2:** What is the likelihood of F is true if A&D is true, B&C is False?"
   ]
  },
  {
   "cell_type": "code",
   "execution_count": null,
   "metadata": {},
   "outputs": [],
   "source": []
  },
  {
   "cell_type": "markdown",
   "metadata": {},
   "source": [
    "**Task 3:** What is the likelihood of F is False if A&B is False, C&D is True?"
   ]
  },
  {
   "cell_type": "code",
   "execution_count": null,
   "metadata": {},
   "outputs": [],
   "source": []
  }
 ],
 "metadata": {
  "colab": {
   "authorship_tag": "ABX9TyMD6irWyOsY7s+99aB0IiMz",
   "include_colab_link": true,
   "provenance": []
  },
  "kernelspec": {
   "display_name": ".FAIML_env",
   "language": "python",
   "name": "python3"
  },
  "language_info": {
   "codemirror_mode": {
    "name": "ipython",
    "version": 3
   },
   "file_extension": ".py",
   "mimetype": "text/x-python",
   "name": "python",
   "nbconvert_exporter": "python",
   "pygments_lexer": "ipython3",
   "version": "3.10.11"
  }
 },
 "nbformat": 4,
 "nbformat_minor": 0
}
