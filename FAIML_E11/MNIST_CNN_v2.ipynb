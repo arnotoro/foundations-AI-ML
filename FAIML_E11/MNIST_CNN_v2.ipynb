{
 "cells": [
  {
   "cell_type": "code",
   "execution_count": 1,
   "metadata": {
    "id": "0zAXY0BahAZP"
   },
   "outputs": [],
   "source": [
    "import numpy as np # to handle matrix and data operation\n",
    "import pandas as pd # to read csv and handle dataframe\n",
    "\n",
    "import torch # to load pytorch library\n",
    "import torch.nn as nn # to load pytorch library\n",
    "import torch.nn.functional as F # to load pytorch function\n",
    "import torch.utils.data # to load data processor\n",
    "from torch.autograd import Variable # pytorch data type\n",
    "from torchvision import datasets, transforms\n",
    "import matplotlib.pyplot as plt"
   ]
  },
  {
   "cell_type": "code",
   "execution_count": null,
   "metadata": {
    "colab": {
     "base_uri": "https://localhost:8080/",
     "height": 512
    },
    "id": "G-aRxXJChPWP",
    "outputId": "d4b73549-bfba-4252-b3de-5a7ebe031a23"
   },
   "outputs": [
    {
     "name": "stdout",
     "output_type": "stream",
     "text": [
      "<class 'pandas.core.frame.DataFrame'>\n",
      "RangeIndex: 59999 entries, 0 to 59998\n",
      "Columns: 785 entries, 5 to 0.617\n",
      "dtypes: int64(785)\n",
      "memory usage: 359.3 MB\n",
      "<class 'pandas.core.frame.DataFrame'>\n",
      "RangeIndex: 9999 entries, 0 to 9998\n",
      "Columns: 785 entries, 7 to 0.667\n",
      "dtypes: int64(785)\n",
      "memory usage: 59.9 MB\n"
     ]
    },
    {
     "data": {
      "image/png": "[encoded data removed]",
      "text/plain": [
       "<Figure size 640x480 with 10 Axes>"
      ]
     },
     "metadata": {},
     "output_type": "display_data"
    }
   ],
   "source": [
    "# Mnist dataset downloadable from kaggle\n",
    "# https://www.kaggle.com/oddrationale/mnist-in-csv\n",
    "train = pd.read_csv('mnist_data/mnist_train.csv')\n",
    "test = pd.read_csv('mnist_data/mnist_test.csv')\n",
    "train.info()\n",
    "test.info()\n",
    "\n",
    "# split image and label\n",
    "train_label = train.iloc[:, 0].values\n",
    "train_img = train.iloc[:, 1:]\n",
    "test_label = test.iloc[:, 0].values\n",
    "test_img = test.iloc[:, 1:]\n",
    "# check the dataset of one example\n",
    "count=1\n",
    "for a in range (10):\n",
    "    imarray = train_img.iloc[a, :].values.reshape(28,28)\n",
    "    plt.subplot(2,5,count)\n",
    "    plt.subplots_adjust(hspace=0.1)\n",
    "    count += 1\n",
    "    plt.axis('off')\n",
    "    plt.title(\"Label is \" + str(train_label[a]))\n",
    "    plt.imshow(imarray, cmap='Greys', interpolation='None')"
   ]
  },
  {
   "cell_type": "code",
   "execution_count": 3,
   "metadata": {
    "colab": {
     "base_uri": "https://localhost:8080/"
    },
    "id": "CvZxRF28hUkz",
    "outputId": "b418991d-6473-4b20-b497-ec476e79d14c"
   },
   "outputs": [
    {
     "name": "stdout",
     "output_type": "stream",
     "text": [
      "(59999, 1, 28, 28)\n",
      "(59999,)\n",
      "(9999, 1, 28, 28)\n",
      "(9999,)\n"
     ]
    }
   ],
   "source": [
    "# reshape to be [samples][pixels][width][height]\n",
    "train_img = train_img.values.reshape(-1,1,28,28)\n",
    "test_img = test_img.values.reshape(-1,1,28,28)\n",
    "train_img = train_img / 255.0\n",
    "test_img = test_img / 255.0\n",
    "# normalize inputs from 0-255 to 0-1\n",
    "print(train_img.shape)\n",
    "print(train_label.shape)\n",
    "print(test_img.shape)\n",
    "print(test_label.shape)\n",
    "\n",
    "BATCH_SIZE = 1000\n",
    "\n",
    "# create feature and targets tensor for training set.\n",
    "torch_X_train = torch.from_numpy(train_img).float()\n",
    "torch_y_train = torch.from_numpy(train_label)\n",
    "# create feature and targets tensor for testing set.\n",
    "torch_X_test = torch.from_numpy(test_img).float()\n",
    "torch_y_test = torch.from_numpy(test_label)\n",
    "# Pytorch train and test sets\n",
    "train = torch.utils.data.TensorDataset(torch_X_train,torch_y_train)\n",
    "test = torch.utils.data.TensorDataset(torch_X_test,torch_y_test)\n",
    "\n",
    "# data loader\n",
    "train_loader = torch.utils.data.DataLoader(train, batch_size = BATCH_SIZE, shuffle = False, num_workers=4)\n",
    "test_loader = torch.utils.data.DataLoader(test, batch_size = BATCH_SIZE, shuffle = False, num_workers=4)"
   ]
  },
  {
   "cell_type": "code",
   "execution_count": 4,
   "metadata": {
    "id": "9rh_GbUehYNi"
   },
   "outputs": [],
   "source": [
    "# Defining the network (LeNet-5)\n",
    "class LeNet5(nn.Module):\n",
    "    #This defines the structure of the NN.\n",
    "    def __init__(self):\n",
    "        super(LeNet5, self).__init__()\n",
    "        self.conv1 = nn.Conv2d(in_channels=1, out_channels=6, kernel_size=5, stride=1, padding=2)\n",
    "        self.act1 = nn.ReLU()\n",
    "        self.maxpool1 = nn.MaxPool2d(kernel_size=2, stride=2, padding=0)\n",
    "        self.conv2 = nn.Conv2d(in_channels=6, out_channels=16, kernel_size=5, stride=1, padding=0)\n",
    "        self.act2 = nn.ReLU()\n",
    "        self.maxpool2 = nn.MaxPool2d(kernel_size=2, stride=2, padding=0)\n",
    "        self.fc1 = nn.Linear(in_features=400, out_features=120)\n",
    "        self.act3 = nn.ReLU()\n",
    "        self.fc2 = nn.Linear(in_features=120, out_features=84)\n",
    "        self.act4 = nn.ReLU()\n",
    "        self.fc3 = nn.Linear(in_features=84, out_features=10)\n",
    "\n",
    "    def forward(self, x):\n",
    "        #Convolutional Layer/Pooling Layer/Activation\n",
    "        x = self.conv1(x)\n",
    "        x = self.act1(x)\n",
    "        x = self.maxpool1(x)\n",
    "        #Convolutional Layer/Dropout/Pooling Layer/Activation\n",
    "        x = self.conv2(x)\n",
    "        x = self.act2(x)\n",
    "        x = self.maxpool2(x)\n",
    "        x = x.view(-1, 400)\n",
    "        #Fully Connected Layer/Activation\n",
    "        x = self.fc1(x)\n",
    "        x = self.act3(x)\n",
    "        #Fully Connected Layer/Activation\n",
    "        x = self.fc2(x)\n",
    "        x = self.act4(x)\n",
    "\n",
    "        return self.fc3(x)\n",
    "\n",
    "criterion = nn.CrossEntropyLoss()\n",
    "if torch.cuda.is_available():\n",
    "    criterion = criterion.cuda()\n"
   ]
  },
  {
   "cell_type": "code",
   "execution_count": 5,
   "metadata": {
    "id": "2iOfZhr3ha96"
   },
   "outputs": [],
   "source": [
    "def train(model, epoch, optimizer):\n",
    "    model.train()\n",
    "    epoch_loss = 0\n",
    "    for batch_idx, (data, target) in enumerate(train_loader):\n",
    "        if torch.cuda.is_available():\n",
    "            data, target = data.cuda(), target.cuda()\n",
    "        #Variables in Pytorch are differenciable.\n",
    "        data, target = Variable(data), Variable(target)\n",
    "        #This will zero out the gradients for this batch.\n",
    "        optimizer.zero_grad()\n",
    "        output = model(data)\n",
    "        # Calculate the loss The negative log likelihood loss. It is useful to train a classification problem with C classes.\n",
    "        loss = criterion(output, target)\n",
    "        #dloss/dx for every Variable\n",
    "        loss.backward()\n",
    "        #to do a one-step update on our parameter.\n",
    "        optimizer.step()\n",
    "        epoch_loss += loss.item()\n",
    "    #Print out the loss periodically.\n",
    "    avg_loss = epoch_loss / len(train_loader)\n",
    "    print(\"===> Epoch {} Complete: Training loss: {:.4f}\".format(epoch, avg_loss))\n",
    "    return avg_loss"
   ]
  },
  {
   "cell_type": "code",
   "execution_count": 6,
   "metadata": {
    "id": "gstt8Y-0hf_i"
   },
   "outputs": [],
   "source": [
    "def train_accuracy(model, epoch):\n",
    "    model.eval()\n",
    "    correct = 0\n",
    "    for batch_idx, (data, target) in enumerate(train_loader):\n",
    "        if torch.cuda.is_available():\n",
    "            data, target = data.cuda(), target.cuda()\n",
    "        data, target = Variable(data), Variable(target)\n",
    "        with torch.no_grad():\n",
    "            output = model(data)\n",
    "        _, predicted = torch.max(output.data, 1) # get the index of the max log-probability\n",
    "        correct += (predicted == target).sum().item()\n",
    "    avg_accuracy = correct / len(train_loader.dataset)\n",
    "    print(\"===> Epoch {} Complete: Training accuracy: {:.4f}%\".format(epoch, 100. * avg_accuracy))\n",
    "    return avg_accuracy"
   ]
  },
  {
   "cell_type": "code",
   "execution_count": 7,
   "metadata": {
    "id": "ODqVkCikhify"
   },
   "outputs": [],
   "source": [
    "def test(model, epoch):\n",
    "    model.eval()\n",
    "    correct = 0\n",
    "    for batch_idx, (data, target) in enumerate(test_loader):\n",
    "        if torch.cuda.is_available():\n",
    "            data, target = data.cuda(), target.cuda()\n",
    "            \n",
    "        data, target = Variable(data), Variable(target)\n",
    "        with torch.no_grad():\n",
    "            output = model(data)\n",
    "        _, predicted = torch.max(output.data, 1) # get the index of the max log-probability\n",
    "        correct += (predicted == target).sum().item()\n",
    "    avg_accuracy = correct / len(test_loader.dataset)\n",
    "    print(\"===> Epoch {} Complete: Testing accuracy: {:.4f}%\".format(epoch, 100. * avg_accuracy))\n",
    "    return avg_accuracy"
   ]
  },
  {
   "cell_type": "code",
   "execution_count": 8,
   "metadata": {
    "id": "lnIgmDWFhk8S"
   },
   "outputs": [],
   "source": [
    "def checkpoint(model, epoch):\n",
    "    model_out_path = \"Training_epoch_{}.pth\".format(epoch)\n",
    "    torch.save(model.state_dict(), model_out_path)\n",
    "    print(\"Checkpoint saved to {}\".format(model_out_path))"
   ]
  },
  {
   "cell_type": "code",
   "execution_count": 9,
   "metadata": {
    "id": "baPErjlblmGk"
   },
   "outputs": [
    {
     "name": "stdout",
     "output_type": "stream",
     "text": [
      "True\n"
     ]
    }
   ],
   "source": [
    "model = LeNet5()\n",
    "\n",
    "if torch.cuda.is_available():\n",
    "    model.cuda() # set model to use GPU if available, defaults to CPU\n",
    "\n",
    "print(torch.cuda.is_available())\n",
    "optimizer = torch.optim.SGD(model.parameters(), lr=0.01, momentum=0.5)"
   ]
  },
  {
   "cell_type": "markdown",
   "metadata": {
    "id": "9kKa6DMplsns"
   },
   "source": [
    "**Task 1:**  A full loop that records the training loss and testing accuracy"
   ]
  },
  {
   "cell_type": "code",
   "execution_count": 10,
   "metadata": {
    "colab": {
     "base_uri": "https://localhost:8080/"
    },
    "id": "YGDciRxfhoI9",
    "outputId": "2685c6f5-c29b-4b04-f01c-fbdeaeeca258"
   },
   "outputs": [
    {
     "name": "stdout",
     "output_type": "stream",
     "text": [
      "===> Epoch 1 Complete: Training loss: 2.3047\n",
      "===> Epoch 1 Complete: Training accuracy: 9.7268%\n",
      "===> Epoch 1 Complete: Testing accuracy: 9.7210%\n",
      "===> Epoch 2 Complete: Training loss: 2.3017\n",
      "===> Epoch 2 Complete: Training accuracy: 9.7118%\n",
      "===> Epoch 2 Complete: Testing accuracy: 9.7110%\n",
      "===> Epoch 3 Complete: Training loss: 2.2985\n",
      "===> Epoch 3 Complete: Training accuracy: 9.7385%\n",
      "===> Epoch 3 Complete: Testing accuracy: 9.7710%\n",
      "===> Epoch 4 Complete: Training loss: 2.2946\n",
      "===> Epoch 4 Complete: Training accuracy: 11.1869%\n",
      "===> Epoch 4 Complete: Testing accuracy: 11.1911%\n",
      "===> Epoch 5 Complete: Training loss: 2.2890\n",
      "===> Epoch 5 Complete: Training accuracy: 26.4771%\n",
      "===> Epoch 5 Complete: Testing accuracy: 26.7427%\n",
      "===> Epoch 6 Complete: Training loss: 2.2796\n",
      "===> Epoch 6 Complete: Training accuracy: 40.4740%\n",
      "===> Epoch 6 Complete: Testing accuracy: 40.4840%\n",
      "===> Epoch 7 Complete: Training loss: 2.2605\n",
      "===> Epoch 7 Complete: Training accuracy: 46.1158%\n",
      "===> Epoch 7 Complete: Testing accuracy: 47.2647%\n",
      "===> Epoch 8 Complete: Training loss: 2.2024\n",
      "===> Epoch 8 Complete: Training accuracy: 54.9742%\n",
      "===> Epoch 8 Complete: Testing accuracy: 57.0557%\n",
      "===> Epoch 9 Complete: Training loss: 1.8821\n",
      "===> Epoch 9 Complete: Training accuracy: 60.4093%\n",
      "===> Epoch 9 Complete: Testing accuracy: 61.6962%\n",
      "===> Epoch 10 Complete: Training loss: 1.0237\n",
      "===> Epoch 10 Complete: Training accuracy: 77.4046%\n",
      "===> Epoch 10 Complete: Testing accuracy: 77.8778%\n",
      "Checkpoint saved to Training_epoch_10.pth\n",
      "===> Epoch 11 Complete: Training loss: 0.6385\n",
      "===> Epoch 11 Complete: Training accuracy: 82.9214%\n",
      "===> Epoch 11 Complete: Testing accuracy: 83.4683%\n",
      "===> Epoch 12 Complete: Training loss: 0.5076\n",
      "===> Epoch 12 Complete: Training accuracy: 85.8014%\n",
      "===> Epoch 12 Complete: Testing accuracy: 86.0886%\n",
      "===> Epoch 13 Complete: Training loss: 0.4322\n",
      "===> Epoch 13 Complete: Training accuracy: 87.4998%\n",
      "===> Epoch 13 Complete: Testing accuracy: 87.9488%\n",
      "===> Epoch 14 Complete: Training loss: 0.3804\n",
      "===> Epoch 14 Complete: Training accuracy: 88.8781%\n",
      "===> Epoch 14 Complete: Testing accuracy: 89.2789%\n",
      "===> Epoch 15 Complete: Training loss: 0.3422\n",
      "===> Epoch 15 Complete: Training accuracy: 90.0798%\n",
      "===> Epoch 15 Complete: Testing accuracy: 90.4890%\n",
      "===> Epoch 16 Complete: Training loss: 0.3127\n",
      "===> Epoch 16 Complete: Training accuracy: 90.9515%\n",
      "===> Epoch 16 Complete: Testing accuracy: 91.3591%\n",
      "===> Epoch 17 Complete: Training loss: 0.2886\n",
      "===> Epoch 17 Complete: Training accuracy: 91.6799%\n",
      "===> Epoch 17 Complete: Testing accuracy: 92.0692%\n",
      "===> Epoch 18 Complete: Training loss: 0.2679\n",
      "===> Epoch 18 Complete: Training accuracy: 92.2349%\n",
      "===> Epoch 18 Complete: Testing accuracy: 92.7093%\n",
      "===> Epoch 19 Complete: Training loss: 0.2497\n",
      "===> Epoch 19 Complete: Training accuracy: 92.8299%\n",
      "===> Epoch 19 Complete: Testing accuracy: 93.2393%\n",
      "===> Epoch 20 Complete: Training loss: 0.2334\n",
      "===> Epoch 20 Complete: Training accuracy: 93.2882%\n",
      "===> Epoch 20 Complete: Testing accuracy: 93.7294%\n",
      "Checkpoint saved to Training_epoch_20.pth\n",
      "===> Epoch 21 Complete: Training loss: 0.2187\n",
      "===> Epoch 21 Complete: Training accuracy: 93.7049%\n",
      "===> Epoch 21 Complete: Testing accuracy: 93.9994%\n",
      "===> Epoch 22 Complete: Training loss: 0.2056\n",
      "===> Epoch 22 Complete: Training accuracy: 94.0882%\n",
      "===> Epoch 22 Complete: Testing accuracy: 94.3394%\n",
      "===> Epoch 23 Complete: Training loss: 0.1937\n",
      "===> Epoch 23 Complete: Training accuracy: 94.3982%\n",
      "===> Epoch 23 Complete: Testing accuracy: 94.6995%\n",
      "===> Epoch 24 Complete: Training loss: 0.1832\n",
      "===> Epoch 24 Complete: Training accuracy: 94.6832%\n",
      "===> Epoch 24 Complete: Testing accuracy: 94.8495%\n",
      "===> Epoch 25 Complete: Training loss: 0.1736\n",
      "===> Epoch 25 Complete: Training accuracy: 94.9499%\n",
      "===> Epoch 25 Complete: Testing accuracy: 95.2295%\n",
      "===> Epoch 26 Complete: Training loss: 0.1651\n",
      "===> Epoch 26 Complete: Training accuracy: 95.1816%\n",
      "===> Epoch 26 Complete: Testing accuracy: 95.4295%\n",
      "===> Epoch 27 Complete: Training loss: 0.1574\n",
      "===> Epoch 27 Complete: Training accuracy: 95.3699%\n",
      "===> Epoch 27 Complete: Testing accuracy: 95.5996%\n",
      "===> Epoch 28 Complete: Training loss: 0.1504\n",
      "===> Epoch 28 Complete: Training accuracy: 95.5449%\n",
      "===> Epoch 28 Complete: Testing accuracy: 95.7696%\n",
      "===> Epoch 29 Complete: Training loss: 0.1442\n",
      "===> Epoch 29 Complete: Training accuracy: 95.7133%\n",
      "===> Epoch 29 Complete: Testing accuracy: 95.9096%\n",
      "===> Epoch 30 Complete: Training loss: 0.1384\n",
      "===> Epoch 30 Complete: Training accuracy: 95.8949%\n",
      "===> Epoch 30 Complete: Testing accuracy: 96.0496%\n",
      "Checkpoint saved to Training_epoch_30.pth\n",
      "===> Epoch 31 Complete: Training loss: 0.1331\n",
      "===> Epoch 31 Complete: Training accuracy: 96.0416%\n",
      "===> Epoch 31 Complete: Testing accuracy: 96.2296%\n",
      "===> Epoch 32 Complete: Training loss: 0.1283\n",
      "===> Epoch 32 Complete: Training accuracy: 96.2049%\n",
      "===> Epoch 32 Complete: Testing accuracy: 96.3496%\n",
      "===> Epoch 33 Complete: Training loss: 0.1238\n",
      "===> Epoch 33 Complete: Training accuracy: 96.3349%\n",
      "===> Epoch 33 Complete: Testing accuracy: 96.4996%\n",
      "===> Epoch 34 Complete: Training loss: 0.1196\n",
      "===> Epoch 34 Complete: Training accuracy: 96.4449%\n",
      "===> Epoch 34 Complete: Testing accuracy: 96.6097%\n",
      "===> Epoch 35 Complete: Training loss: 0.1158\n",
      "===> Epoch 35 Complete: Training accuracy: 96.5949%\n",
      "===> Epoch 35 Complete: Testing accuracy: 96.7297%\n",
      "===> Epoch 36 Complete: Training loss: 0.1122\n",
      "===> Epoch 36 Complete: Training accuracy: 96.7316%\n",
      "===> Epoch 36 Complete: Testing accuracy: 96.8597%\n",
      "===> Epoch 37 Complete: Training loss: 0.1088\n",
      "===> Epoch 37 Complete: Training accuracy: 96.8199%\n",
      "===> Epoch 37 Complete: Testing accuracy: 96.9797%\n",
      "===> Epoch 38 Complete: Training loss: 0.1057\n",
      "===> Epoch 38 Complete: Training accuracy: 96.8916%\n",
      "===> Epoch 38 Complete: Testing accuracy: 97.0697%\n",
      "===> Epoch 39 Complete: Training loss: 0.1028\n",
      "===> Epoch 39 Complete: Training accuracy: 96.9733%\n",
      "===> Epoch 39 Complete: Testing accuracy: 97.1697%\n",
      "===> Epoch 40 Complete: Training loss: 0.1002\n",
      "===> Epoch 40 Complete: Training accuracy: 97.0500%\n",
      "===> Epoch 40 Complete: Testing accuracy: 97.2397%\n",
      "Checkpoint saved to Training_epoch_40.pth\n",
      "===> Epoch 41 Complete: Training loss: 0.0977\n",
      "===> Epoch 41 Complete: Training accuracy: 97.1366%\n",
      "===> Epoch 41 Complete: Testing accuracy: 97.2697%\n",
      "===> Epoch 42 Complete: Training loss: 0.0953\n",
      "===> Epoch 42 Complete: Training accuracy: 97.1900%\n",
      "===> Epoch 42 Complete: Testing accuracy: 97.2997%\n",
      "===> Epoch 43 Complete: Training loss: 0.0931\n",
      "===> Epoch 43 Complete: Training accuracy: 97.2616%\n",
      "===> Epoch 43 Complete: Testing accuracy: 97.3697%\n",
      "===> Epoch 44 Complete: Training loss: 0.0910\n",
      "===> Epoch 44 Complete: Training accuracy: 97.3150%\n",
      "===> Epoch 44 Complete: Testing accuracy: 97.4097%\n",
      "===> Epoch 45 Complete: Training loss: 0.0891\n",
      "===> Epoch 45 Complete: Training accuracy: 97.3483%\n",
      "===> Epoch 45 Complete: Testing accuracy: 97.4197%\n",
      "===> Epoch 46 Complete: Training loss: 0.0872\n",
      "===> Epoch 46 Complete: Training accuracy: 97.3950%\n",
      "===> Epoch 46 Complete: Testing accuracy: 97.4797%\n",
      "===> Epoch 47 Complete: Training loss: 0.0855\n",
      "===> Epoch 47 Complete: Training accuracy: 97.4433%\n",
      "===> Epoch 47 Complete: Testing accuracy: 97.5398%\n",
      "===> Epoch 48 Complete: Training loss: 0.0838\n",
      "===> Epoch 48 Complete: Training accuracy: 97.5100%\n",
      "===> Epoch 48 Complete: Testing accuracy: 97.5398%\n",
      "===> Epoch 49 Complete: Training loss: 0.0823\n",
      "===> Epoch 49 Complete: Training accuracy: 97.5566%\n",
      "===> Epoch 49 Complete: Testing accuracy: 97.5598%\n",
      "===> Epoch 50 Complete: Training loss: 0.0808\n",
      "===> Epoch 50 Complete: Training accuracy: 97.6016%\n",
      "===> Epoch 50 Complete: Testing accuracy: 97.6098%\n",
      "Checkpoint saved to Training_epoch_50.pth\n"
     ]
    }
   ],
   "source": [
    "train_losses = []\n",
    "train_correct = []\n",
    "test_correct = []\n",
    "for epoch in range(1, 51, 1):\n",
    "    # Trainining loss\n",
    "    train_loss = train(model, epoch, optimizer)\n",
    "    train_losses.append(train_loss)\n",
    "    # Training accuracy\n",
    "    train_acc = train_accuracy(model, epoch)\n",
    "    train_correct.append(train_acc)\n",
    "    # Testing accuracy\n",
    "    test_acc = test(model, epoch)\n",
    "    test_correct.append(test_acc)\n",
    "    if epoch % 10 == 0:\n",
    "        # Model checkpointing\n",
    "        checkpoint(model, epoch)\n",
    "        "
   ]
  },
  {
   "cell_type": "markdown",
   "metadata": {
    "id": "dCai4MeblzuS"
   },
   "source": [
    "**Task 2.** Plot the training loss and testing accuracy VS epoches"
   ]
  },
  {
   "cell_type": "code",
   "execution_count": 12,
   "metadata": {
    "colab": {
     "base_uri": "https://localhost:8080/",
     "height": 449
    },
    "id": "2odo4kQCj9hV",
    "outputId": "dca1d7c5-00d3-4f5f-c22e-2f47a8ca6a1b"
   },
   "outputs": [
    {
     "data": {
      "image/png": "[encoded data removed]",
      "text/plain": [
       "<Figure size 1000x500 with 2 Axes>"
      ]
     },
     "metadata": {},
     "output_type": "display_data"
    }
   ],
   "source": [
    "epochs = range(1, 51)\n",
    "\n",
    "plt.figure(figsize=(10, 5))\n",
    "\n",
    "# Training loss\n",
    "plt.subplot(1, 2, 1)\n",
    "plt.plot(epochs, train_losses, label='Training loss')\n",
    "plt.title('Training loss vs. Epochs')\n",
    "plt.xlabel('Epochs')\n",
    "plt.ylabel('Loss')\n",
    "plt.legend()\n",
    "\n",
    "# Testing accuracy\n",
    "plt.subplot(1, 2, 2)\n",
    "plt.plot(epochs, test_correct, label='Testing accuracy')\n",
    "plt.title('Accuracy vs. Epochs')\n",
    "plt.xlabel('Epochs')\n",
    "plt.ylabel('Accuracy')\n",
    "plt.legend()\n",
    "\n",
    "plt.tight_layout()\n",
    "plt.show()\n"
   ]
  },
  {
   "cell_type": "markdown",
   "metadata": {
    "id": "YlOyEw7Gl616"
   },
   "source": [
    "**Task 3.** load pre-trained model and visualize the prediction on the testing samples."
   ]
  },
  {
   "cell_type": "code",
   "execution_count": null,
   "metadata": {
    "colab": {
     "base_uri": "https://localhost:8080/",
     "height": 324
    },
    "id": "CGmxuqTikBtK",
    "outputId": "c052d562-7630-47de-e52c-e4133754aaf7"
   },
   "outputs": [
    {
     "name": "stderr",
     "output_type": "stream",
     "text": [
      "C:\\Users\\arnot\\AppData\\Local\\Temp\\ipykernel_5696\\1486759900.py:2: FutureWarning: You are using `torch.load` with `weights_only=False` (the current default value), which uses the default pickle module implicitly. It is possible to construct malicious pickle data which will execute arbitrary code during unpickling (See https://github.com/pytorch/pytorch/blob/main/SECURITY.md#untrusted-models for more details). In a future release, the default value for `weights_only` will be flipped to `True`. This limits the functions that could be executed during unpickling. Arbitrary objects will no longer be allowed to be loaded via this mode unless they are explicitly allowlisted by the user via `torch.serialization.add_safe_globals`. We recommend you start setting `weights_only=True` for any use case where you don't have full control of the loaded file. Please open an issue on GitHub for any issues related to this experimental feature.\n",
      "  model.load_state_dict(torch.load(model_name, map_location=lambda storage, loc: storage)) # load the trained model\n"
     ]
    },
    {
     "data": {
      "image/png": "[encoded data removed]",
      "text/plain": [
       "<Figure size 640x480 with 10 Axes>"
      ]
     },
     "metadata": {},
     "output_type": "display_data"
    }
   ],
   "source": [
    "model_name = 'Training_epoch_50.pth'\n",
    "model.load_state_dict(torch.load(model_name, map_location=lambda storage, loc: storage)) # load the trained model\n",
    "count=1\n",
    "model.eval()\n",
    "for a in range (10):\n",
    "    imarray = test_img[a].reshape(1,1,28,28)\n",
    "    data = torch.from_numpy(imarray).float()\n",
    "    if torch.cuda.is_available():\n",
    "        data = data.cuda()\n",
    "\n",
    "    # Fill here:\n",
    "    # Input the image to the loaded model\n",
    "\n",
    "    # Image array loaded to model\n",
    "    output = model(data)\n",
    "\n",
    "    # Get the predicted class labels using argmax or max on the model output\n",
    "    _, predicted = torch.max(output, 1)\n",
    "\n",
    "\n",
    "    plt.subplot(2,5,count)\n",
    "    plt.subplots_adjust(hspace=0.2, wspace = 0.6)\n",
    "    count += 1\n",
    "    plt.axis('off')\n",
    "    plt.title('GT: ' + str(test_label[a]) + ' Pred: ' + str(predicted.item()), fontsize=10)\n",
    "    plt.imshow(imarray[0,0,:,:], cmap='Greys', interpolation='None')"
   ]
  },
  {
   "cell_type": "markdown",
   "metadata": {
    "id": "APdVVpOmmO27"
   },
   "source": [
    "**Task 4.** Change the learning rate and retrain the model again, plot the new training loss and original training loss in one figure and explain your discovery."
   ]
  },
  {
   "cell_type": "code",
   "execution_count": 37,
   "metadata": {},
   "outputs": [],
   "source": [
    "model2 = LeNet5() # initialize a new model\n",
    "if torch.cuda.is_available():\n",
    "    model2.cuda() # Move the model to GPU if available\n",
    "\n",
    "\n",
    "#optimizer2 = torch.optim.Adam(model2.parameters(), lr=0.05) # for testing\n",
    "optimizer2 = torch.optim.SGD(model2.parameters(), lr=0.1, momentum=0.5) # initialize a new optimizer"
   ]
  },
  {
   "cell_type": "code",
   "execution_count": 38,
   "metadata": {},
   "outputs": [
    {
     "name": "stdout",
     "output_type": "stream",
     "text": [
      "===> Epoch 1 Complete: Training loss: 2.2113\n",
      "===> Epoch 1 Complete: Training accuracy: 48.4691%\n",
      "===> Epoch 1 Complete: Testing accuracy: 49.0849%\n",
      "===> Epoch 2 Complete: Training loss: 0.7233\n",
      "===> Epoch 2 Complete: Training accuracy: 89.7348%\n",
      "===> Epoch 2 Complete: Testing accuracy: 90.4790%\n",
      "===> Epoch 3 Complete: Training loss: 0.2206\n",
      "===> Epoch 3 Complete: Training accuracy: 94.3049%\n",
      "===> Epoch 3 Complete: Testing accuracy: 94.6095%\n",
      "===> Epoch 4 Complete: Training loss: 0.1509\n",
      "===> Epoch 4 Complete: Training accuracy: 95.7649%\n",
      "===> Epoch 4 Complete: Testing accuracy: 95.9596%\n",
      "===> Epoch 5 Complete: Training loss: 0.1192\n",
      "===> Epoch 5 Complete: Training accuracy: 96.5233%\n",
      "===> Epoch 5 Complete: Testing accuracy: 96.5497%\n",
      "===> Epoch 6 Complete: Training loss: 0.0999\n",
      "===> Epoch 6 Complete: Training accuracy: 97.0833%\n",
      "===> Epoch 6 Complete: Testing accuracy: 97.0997%\n",
      "===> Epoch 7 Complete: Training loss: 0.0874\n",
      "===> Epoch 7 Complete: Training accuracy: 97.5366%\n",
      "===> Epoch 7 Complete: Testing accuracy: 97.5398%\n",
      "===> Epoch 8 Complete: Training loss: 0.0777\n",
      "===> Epoch 8 Complete: Training accuracy: 97.7300%\n",
      "===> Epoch 8 Complete: Testing accuracy: 97.7198%\n",
      "===> Epoch 9 Complete: Training loss: 0.0701\n",
      "===> Epoch 9 Complete: Training accuracy: 97.8983%\n",
      "===> Epoch 9 Complete: Testing accuracy: 97.8498%\n",
      "===> Epoch 10 Complete: Training loss: 0.0640\n",
      "===> Epoch 10 Complete: Training accuracy: 98.0366%\n",
      "===> Epoch 10 Complete: Testing accuracy: 97.9598%\n",
      "Checkpoint saved to Training_epoch_10.pth\n",
      "===> Epoch 11 Complete: Training loss: 0.0588\n",
      "===> Epoch 11 Complete: Training accuracy: 98.1650%\n",
      "===> Epoch 11 Complete: Testing accuracy: 98.0898%\n",
      "===> Epoch 12 Complete: Training loss: 0.0543\n",
      "===> Epoch 12 Complete: Training accuracy: 98.2933%\n",
      "===> Epoch 12 Complete: Testing accuracy: 98.1898%\n",
      "===> Epoch 13 Complete: Training loss: 0.0505\n",
      "===> Epoch 13 Complete: Training accuracy: 98.3850%\n",
      "===> Epoch 13 Complete: Testing accuracy: 98.2398%\n",
      "===> Epoch 14 Complete: Training loss: 0.0472\n",
      "===> Epoch 14 Complete: Training accuracy: 98.4483%\n",
      "===> Epoch 14 Complete: Testing accuracy: 98.2798%\n",
      "===> Epoch 15 Complete: Training loss: 0.0444\n",
      "===> Epoch 15 Complete: Training accuracy: 98.5033%\n",
      "===> Epoch 15 Complete: Testing accuracy: 98.3598%\n",
      "===> Epoch 16 Complete: Training loss: 0.0419\n",
      "===> Epoch 16 Complete: Training accuracy: 98.6150%\n",
      "===> Epoch 16 Complete: Testing accuracy: 98.3498%\n",
      "===> Epoch 17 Complete: Training loss: 0.0395\n",
      "===> Epoch 17 Complete: Training accuracy: 98.6750%\n",
      "===> Epoch 17 Complete: Testing accuracy: 98.3298%\n",
      "===> Epoch 18 Complete: Training loss: 0.0374\n",
      "===> Epoch 18 Complete: Training accuracy: 98.7816%\n",
      "===> Epoch 18 Complete: Testing accuracy: 98.4198%\n",
      "===> Epoch 19 Complete: Training loss: 0.0354\n",
      "===> Epoch 19 Complete: Training accuracy: 98.8450%\n",
      "===> Epoch 19 Complete: Testing accuracy: 98.4698%\n",
      "===> Epoch 20 Complete: Training loss: 0.0336\n",
      "===> Epoch 20 Complete: Training accuracy: 98.9383%\n",
      "===> Epoch 20 Complete: Testing accuracy: 98.5399%\n",
      "Checkpoint saved to Training_epoch_20.pth\n",
      "===> Epoch 21 Complete: Training loss: 0.0320\n",
      "===> Epoch 21 Complete: Training accuracy: 99.0133%\n",
      "===> Epoch 21 Complete: Testing accuracy: 98.5699%\n",
      "===> Epoch 22 Complete: Training loss: 0.0304\n",
      "===> Epoch 22 Complete: Training accuracy: 99.0533%\n",
      "===> Epoch 22 Complete: Testing accuracy: 98.5999%\n",
      "===> Epoch 23 Complete: Training loss: 0.0289\n",
      "===> Epoch 23 Complete: Training accuracy: 99.0967%\n",
      "===> Epoch 23 Complete: Testing accuracy: 98.6499%\n",
      "===> Epoch 24 Complete: Training loss: 0.0275\n",
      "===> Epoch 24 Complete: Training accuracy: 99.1467%\n",
      "===> Epoch 24 Complete: Testing accuracy: 98.6399%\n",
      "===> Epoch 25 Complete: Training loss: 0.0262\n",
      "===> Epoch 25 Complete: Training accuracy: 99.2317%\n",
      "===> Epoch 25 Complete: Testing accuracy: 98.7299%\n",
      "===> Epoch 26 Complete: Training loss: 0.0249\n",
      "===> Epoch 26 Complete: Training accuracy: 99.2517%\n",
      "===> Epoch 26 Complete: Testing accuracy: 98.7099%\n",
      "===> Epoch 27 Complete: Training loss: 0.0238\n",
      "===> Epoch 27 Complete: Training accuracy: 99.2783%\n",
      "===> Epoch 27 Complete: Testing accuracy: 98.7599%\n",
      "===> Epoch 28 Complete: Training loss: 0.0227\n",
      "===> Epoch 28 Complete: Training accuracy: 99.2983%\n",
      "===> Epoch 28 Complete: Testing accuracy: 98.7299%\n",
      "===> Epoch 29 Complete: Training loss: 0.0216\n",
      "===> Epoch 29 Complete: Training accuracy: 99.3383%\n",
      "===> Epoch 29 Complete: Testing accuracy: 98.7699%\n",
      "===> Epoch 30 Complete: Training loss: 0.0208\n",
      "===> Epoch 30 Complete: Training accuracy: 99.3683%\n",
      "===> Epoch 30 Complete: Testing accuracy: 98.7999%\n",
      "Checkpoint saved to Training_epoch_30.pth\n",
      "===> Epoch 31 Complete: Training loss: 0.0198\n",
      "===> Epoch 31 Complete: Training accuracy: 99.3967%\n",
      "===> Epoch 31 Complete: Testing accuracy: 98.8299%\n",
      "===> Epoch 32 Complete: Training loss: 0.0189\n",
      "===> Epoch 32 Complete: Training accuracy: 99.4150%\n",
      "===> Epoch 32 Complete: Testing accuracy: 98.8499%\n",
      "===> Epoch 33 Complete: Training loss: 0.0182\n",
      "===> Epoch 33 Complete: Training accuracy: 99.4233%\n",
      "===> Epoch 33 Complete: Testing accuracy: 98.8199%\n",
      "===> Epoch 34 Complete: Training loss: 0.0174\n",
      "===> Epoch 34 Complete: Training accuracy: 99.4283%\n",
      "===> Epoch 34 Complete: Testing accuracy: 98.8299%\n",
      "===> Epoch 35 Complete: Training loss: 0.0167\n",
      "===> Epoch 35 Complete: Training accuracy: 99.4150%\n",
      "===> Epoch 35 Complete: Testing accuracy: 98.8299%\n",
      "===> Epoch 36 Complete: Training loss: 0.0161\n",
      "===> Epoch 36 Complete: Training accuracy: 99.4183%\n",
      "===> Epoch 36 Complete: Testing accuracy: 98.7899%\n",
      "===> Epoch 37 Complete: Training loss: 0.0154\n",
      "===> Epoch 37 Complete: Training accuracy: 99.4433%\n",
      "===> Epoch 37 Complete: Testing accuracy: 98.8099%\n",
      "===> Epoch 38 Complete: Training loss: 0.0148\n",
      "===> Epoch 38 Complete: Training accuracy: 99.4567%\n",
      "===> Epoch 38 Complete: Testing accuracy: 98.7399%\n",
      "===> Epoch 39 Complete: Training loss: 0.0141\n",
      "===> Epoch 39 Complete: Training accuracy: 99.4517%\n",
      "===> Epoch 39 Complete: Testing accuracy: 98.7299%\n",
      "===> Epoch 40 Complete: Training loss: 0.0133\n",
      "===> Epoch 40 Complete: Training accuracy: 99.4717%\n",
      "===> Epoch 40 Complete: Testing accuracy: 98.7699%\n",
      "Checkpoint saved to Training_epoch_40.pth\n",
      "===> Epoch 41 Complete: Training loss: 0.0126\n",
      "===> Epoch 41 Complete: Training accuracy: 99.4667%\n",
      "===> Epoch 41 Complete: Testing accuracy: 98.7599%\n",
      "===> Epoch 42 Complete: Training loss: 0.0119\n",
      "===> Epoch 42 Complete: Training accuracy: 99.4917%\n",
      "===> Epoch 42 Complete: Testing accuracy: 98.7399%\n",
      "===> Epoch 43 Complete: Training loss: 0.0113\n",
      "===> Epoch 43 Complete: Training accuracy: 99.5000%\n",
      "===> Epoch 43 Complete: Testing accuracy: 98.7599%\n",
      "===> Epoch 44 Complete: Training loss: 0.0106\n",
      "===> Epoch 44 Complete: Training accuracy: 99.5333%\n",
      "===> Epoch 44 Complete: Testing accuracy: 98.7499%\n",
      "===> Epoch 45 Complete: Training loss: 0.0100\n",
      "===> Epoch 45 Complete: Training accuracy: 99.5267%\n",
      "===> Epoch 45 Complete: Testing accuracy: 98.7399%\n",
      "===> Epoch 46 Complete: Training loss: 0.0094\n",
      "===> Epoch 46 Complete: Training accuracy: 99.5417%\n",
      "===> Epoch 46 Complete: Testing accuracy: 98.7099%\n",
      "===> Epoch 47 Complete: Training loss: 0.0089\n",
      "===> Epoch 47 Complete: Training accuracy: 99.5467%\n",
      "===> Epoch 47 Complete: Testing accuracy: 98.7099%\n",
      "===> Epoch 48 Complete: Training loss: 0.0084\n",
      "===> Epoch 48 Complete: Training accuracy: 99.5700%\n",
      "===> Epoch 48 Complete: Testing accuracy: 98.7199%\n",
      "===> Epoch 49 Complete: Training loss: 0.0079\n",
      "===> Epoch 49 Complete: Training accuracy: 99.5667%\n",
      "===> Epoch 49 Complete: Testing accuracy: 98.6999%\n",
      "===> Epoch 50 Complete: Training loss: 0.0074\n",
      "===> Epoch 50 Complete: Training accuracy: 99.5783%\n",
      "===> Epoch 50 Complete: Testing accuracy: 98.6999%\n",
      "Checkpoint saved to Training_epoch_50.pth\n"
     ]
    }
   ],
   "source": [
    "train_losses2 = []\n",
    "train_correct2 = []\n",
    "test_correct2 = []\n",
    "\n",
    "for epoch in range(1, 51, 1):\n",
    "    # Training loss\n",
    "    train_loss = train(model2, epoch, optimizer2)\n",
    "    train_losses2.append(train_loss)\n",
    "    # Training accuracy\n",
    "    train_acc = train_accuracy(model2, epoch)\n",
    "    train_correct2.append(train_acc)\n",
    "    # Test accuracy\n",
    "    test_acc = test(model2, epoch)\n",
    "    test_correct2.append(test_acc)\n",
    "    if epoch % 10 == 0:\n",
    "        # Model checkpointing\n",
    "        checkpoint(model2, epoch)\n",
    "\n",
    "\n"
   ]
  },
  {
   "cell_type": "markdown",
   "metadata": {},
   "source": [
    "Plot accuracies and loss"
   ]
  },
  {
   "cell_type": "code",
   "execution_count": 39,
   "metadata": {},
   "outputs": [
    {
     "data": {
      "image/png": "[encoded data removed]",
      "text/plain": [
       "<Figure size 1000x500 with 2 Axes>"
      ]
     },
     "metadata": {},
     "output_type": "display_data"
    }
   ],
   "source": [
    "epochs = range(1, 51)\n",
    "\n",
    "plt.figure(figsize=(10, 5))\n",
    "\n",
    "# Training loss\n",
    "plt.subplot(1, 2, 1)\n",
    "plt.plot(epochs, train_losses2, label='Training loss')\n",
    "plt.title('Training loss vs. Epochs')\n",
    "plt.xlabel('Epochs')\n",
    "plt.ylabel('Loss')\n",
    "plt.legend()\n",
    "\n",
    "# Testing accuracy\n",
    "plt.subplot(1, 2, 2)\n",
    "plt.plot(epochs, test_correct2, label='Testing accuracy')\n",
    "plt.title('Accuracy vs. Epochs')\n",
    "plt.xlabel('Epochs')\n",
    "plt.ylabel('Accuracy')\n",
    "plt.legend()\n",
    "\n",
    "plt.tight_layout()\n",
    "plt.show()\n"
   ]
  }
 ],
 "metadata": {
  "accelerator": "GPU",
  "colab": {
   "authorship_tag": "ABX9TyNev4JErWTdHCU018SZjzaD",
   "gpuType": "T4",
   "include_colab_link": true,
   "provenance": []
  },
  "kernelspec": {
   "display_name": ".FAIML_env",
   "language": "python",
   "name": "python3"
  },
  "language_info": {
   "codemirror_mode": {
    "name": "ipython",
    "version": 3
   },
   "file_extension": ".py",
   "mimetype": "text/x-python",
   "name": "python",
   "nbconvert_exporter": "python",
   "pygments_lexer": "ipython3",
   "version": "3.10.11"
  }
 },
 "nbformat": 4,
 "nbformat_minor": 0
}
